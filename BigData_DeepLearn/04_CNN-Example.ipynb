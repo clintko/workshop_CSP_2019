{
 "cells": [
  {
   "cell_type": "markdown",
   "metadata": {},
   "source": [
    "# Deep Learning Using R with keras (CNN)\n",
    "\n",
    "In this notebook, we will walk through how to use the keras R package for a toy example in deep learning with the hand written digits image dataset (i.e. MNIST). The purpose of the notebook is to have hands-on experience and get familar with the Converlutional Neural Network part of the training course. Please check the keras R package website for most recent development: https://keras.rstudio.com/\n",
    "\n",
    "We are using databrick community edition with R as the interface for this deep learning training for audience with statistics background with the following consideration:\n",
    "\n",
    "- Minimum language barrier in coding for most statisticians\n",
    "- Zero setup to save time using cloud envriment\n",
    "- Get familar with current trend of cloud computing in coorprate setup"
   ]
  },
  {
   "cell_type": "markdown",
   "metadata": {},
   "source": [
    "# 1 Packages Download and Installation\n",
    "In this example notebook, the keras R package is needed. As it has a many dependent packages to be download and install, it takes a few minutes to finish. Be patient! In a production cloud enviroment such as the paid version of Databricks, you can save what you have and resume from where you left. But in this free community edition of Databrics, we have to download and install needed packages everytime a new cluster is created or after every log in."
   ]
  },
  {
   "cell_type": "markdown",
   "metadata": {},
   "source": [
    "## 1.1 Download keras\n",
    "The keras package is published to CRAN at 2018-04-29 and we can get it through CRAN by calling install.packages(\"keras\"). As it is still in fast development stage, we can also get it directly from github for most recently update that might not be pushed to CRAN yet. Again, be patient, the following cell may take a few minutes to finish installing all dependencies."
   ]
  },
  {
   "cell_type": "markdown",
   "metadata": {},
   "source": [
    "```\n",
    "## default installation from CRAN\n",
    "install.packages(\"keras\")\n",
    "\n",
    "## if we install keras through github, uncomment the line below.\n",
    "## devtools::install_github(\"rstudio/keras\") \n",
    "```"
   ]
  },
  {
   "cell_type": "markdown",
   "metadata": {},
   "source": [
    "## 1.2 Load keras package and the requried tensorflow backend\n",
    "As keras is just an interface to popular deep learning frameworks, we have to install a specfic deep learning backend. The default and recommended backend is TensorFlow. By calling install_keras(), it will install all the needed dependencies for TensorFlow. The following cell takes around one minute to run."
   ]
  },
  {
   "cell_type": "code",
   "execution_count": 1,
   "metadata": {},
   "outputs": [
    {
     "name": "stdout",
     "output_type": "stream",
     "text": [
      "Creating virtualenv for TensorFlow at  ~/.virtualenvs/r-tensorflow \n",
      "Installing TensorFlow ...\n",
      "\n",
      "Installation complete.\n",
      "\n"
     ]
    }
   ],
   "source": [
    "library(keras)\n",
    "install_keras()"
   ]
  },
  {
   "cell_type": "markdown",
   "metadata": {},
   "source": [
    "Now we are all set to explore deep learning! As simple as three lines of R code, but there are quite a lot going on behind the scene. One of the advantage of cloud enviroment is that we do not need to worry about these behind scene setup and maintenance."
   ]
  },
  {
   "cell_type": "markdown",
   "metadata": {},
   "source": [
    "# 2 Overview for MNIST Dataset\n",
    "In deep learning, one of the first sucessfuly application that is better than traditonal machine learning areas is image recognition. We will use the widely used MNIST handwritten digit image dataset for this tutorial. More information about the dataset and benchmark results from various machine learning methods can be found at: http://yann.lecun.com/exdb/mnist/ and https://en.wikipedia.org/wiki/MNIST_database"
   ]
  },
  {
   "cell_type": "markdown",
   "metadata": {},
   "source": [
    "## 2.1 Load MNIST dataset\n",
    "This dataset is already included in the keras/tensorflow installation and we can simply load the dataset as described in the following cell. It takes less than a minute to load the dataset."
   ]
  },
  {
   "cell_type": "code",
   "execution_count": 2,
   "metadata": {},
   "outputs": [],
   "source": [
    "mnist <- dataset_mnist()"
   ]
  },
  {
   "cell_type": "markdown",
   "metadata": {},
   "source": [
    "## 2.2 Training and testing datasets\n",
    "The data structure of the MNIST dataset is straight forward and well prepared for R, which has two pieces: (1) training set: x (i.e. features): 60000x28x28 tensor which corresponds to 60000 28x28 pixel images with grey scale representation (i.e. all the values are integer between 0 and 255 in each 28x28 matrix), and y (i.e. responses): a length 60000 vector which contains the corresponding digits with integer values between 0 and 9. (2) testing set: same as the training set, but with only 10000 images and responses. Detailed structure for the dataset can be seen with str(mnist) below."
   ]
  },
  {
   "cell_type": "code",
   "execution_count": 3,
   "metadata": {},
   "outputs": [
    {
     "name": "stdout",
     "output_type": "stream",
     "text": [
      "List of 2\n",
      " $ train:List of 2\n",
      "  ..$ x: int [1:60000, 1:28, 1:28] 0 0 0 0 0 0 0 0 0 0 ...\n",
      "  ..$ y: int [1:60000(1d)] 5 0 4 1 9 2 1 3 1 4 ...\n",
      " $ test :List of 2\n",
      "  ..$ x: int [1:10000, 1:28, 1:28] 0 0 0 0 0 0 0 0 0 0 ...\n",
      "  ..$ y: int [1:10000(1d)] 7 2 1 0 4 1 4 9 5 9 ...\n"
     ]
    }
   ],
   "source": [
    "str(mnist)"
   ]
  },
  {
   "cell_type": "markdown",
   "metadata": {},
   "source": [
    "Now we prepare the features (x) and response variable (y) for both the training and testing dataset, and we can check the structure of the x_train and y_train using str() function."
   ]
  },
  {
   "cell_type": "code",
   "execution_count": 4,
   "metadata": {},
   "outputs": [
    {
     "name": "stdout",
     "output_type": "stream",
     "text": [
      " int [1:60000, 1:28, 1:28] 0 0 0 0 0 0 0 0 0 0 ...\n",
      " int [1:60000(1d)] 5 0 4 1 9 2 1 3 1 4 ...\n"
     ]
    }
   ],
   "source": [
    "x_train <- mnist$train$x\n",
    "y_train <- mnist$train$y\n",
    "x_test <- mnist$test$x\n",
    "y_test <- mnist$test$y\n",
    "\n",
    "str(x_train)\n",
    "str(y_train)"
   ]
  },
  {
   "cell_type": "markdown",
   "metadata": {},
   "source": [
    "## 2.3 Plot an image\n",
    "Now let's plot a chosen 28x28 matrix as an images using R's image() function. In R's image() function, the way of showing an image is rotated 90 degree from the matrix representation. So there is additonal steps to rearrange the matrix such that we can use image() function to show it in the actual orientation."
   ]
  },
  {
   "cell_type": "code",
   "execution_count": 5,
   "metadata": {},
   "outputs": [
    {
     "data": {
      "image/png": "[encoded data removed]",
      "text/plain": [
       "plot without title"
      ]
     },
     "metadata": {},
     "output_type": "display_data"
    }
   ],
   "source": [
    "index_image = 28 ## change this index to see different image.\n",
    "input_matrix <- x_train[index_image,1:28,1:28]\n",
    "output_matrix <- apply(input_matrix, 2, rev)\n",
    "output_matrix <- t(output_matrix)\n",
    "image(1:28, 1:28, output_matrix, col=gray.colors(256), xlab=paste('Image for digit of: ', y_train[index_image]), ylab=\"\")"
   ]
  },
  {
   "cell_type": "markdown",
   "metadata": {},
   "source": [
    "Here is the original 28x28 matrix for the above image:"
   ]
  },
  {
   "cell_type": "code",
   "execution_count": 6,
   "metadata": {},
   "outputs": [
    {
     "data": {
      "text/html": [
       "<table>\n",
       "<tbody>\n",
       "\t<tr><td>0  </td><td>0  </td><td>0  </td><td>0  </td><td> 0 </td><td>  0</td><td>  0</td><td>  0</td><td>  0</td><td>  0</td><td>⋯  </td><td>  0</td><td>  0</td><td>  0</td><td>  0</td><td>  0</td><td> 0 </td><td>0  </td><td>0  </td><td>0  </td><td>0  </td></tr>\n",
       "\t<tr><td>0  </td><td>0  </td><td>0  </td><td>0  </td><td> 0 </td><td>  0</td><td>  0</td><td>  0</td><td>  0</td><td>  0</td><td>⋯  </td><td>  0</td><td>  0</td><td>  0</td><td>  0</td><td>  0</td><td> 0 </td><td>0  </td><td>0  </td><td>0  </td><td>0  </td></tr>\n",
       "\t<tr><td>0  </td><td>0  </td><td>0  </td><td>0  </td><td> 0 </td><td>  0</td><td>  0</td><td>  0</td><td>  0</td><td>  0</td><td>⋯  </td><td>  0</td><td>  0</td><td>  0</td><td>  0</td><td>  0</td><td> 0 </td><td>0  </td><td>0  </td><td>0  </td><td>0  </td></tr>\n",
       "\t<tr><td>0  </td><td>0  </td><td>0  </td><td>0  </td><td> 0 </td><td>  0</td><td>  0</td><td>  0</td><td>  0</td><td>  0</td><td>⋯  </td><td>  0</td><td>  0</td><td>  0</td><td>  0</td><td>  0</td><td> 0 </td><td>0  </td><td>0  </td><td>0  </td><td>0  </td></tr>\n",
       "\t<tr><td>0  </td><td>0  </td><td>0  </td><td>0  </td><td> 0 </td><td>  0</td><td>  0</td><td>  0</td><td>  0</td><td>  0</td><td>⋯  </td><td>  0</td><td>  0</td><td>  0</td><td>  0</td><td>  0</td><td> 0 </td><td>0  </td><td>0  </td><td>0  </td><td>0  </td></tr>\n",
       "\t<tr><td>0  </td><td>0  </td><td>0  </td><td>0  </td><td> 0 </td><td>  0</td><td>  0</td><td>  0</td><td>  0</td><td>  0</td><td>⋯  </td><td> 80</td><td> 80</td><td> 44</td><td>  0</td><td>  0</td><td> 0 </td><td>0  </td><td>0  </td><td>0  </td><td>0  </td></tr>\n",
       "\t<tr><td>0  </td><td>0  </td><td>0  </td><td>0  </td><td> 0 </td><td>  0</td><td> 39</td><td>158</td><td>158</td><td>158</td><td>⋯  </td><td>253</td><td>253</td><td>210</td><td> 38</td><td>  0</td><td> 0 </td><td>0  </td><td>0  </td><td>0  </td><td>0  </td></tr>\n",
       "\t<tr><td>0  </td><td>0  </td><td>0  </td><td>0  </td><td> 0 </td><td>  0</td><td>226</td><td>253</td><td>253</td><td>253</td><td>⋯  </td><td>253</td><td>253</td><td>253</td><td>241</td><td>146</td><td> 0 </td><td>0  </td><td>0  </td><td>0  </td><td>0  </td></tr>\n",
       "\t<tr><td>0  </td><td>0  </td><td>0  </td><td>0  </td><td> 0 </td><td>  0</td><td>139</td><td>253</td><td>253</td><td>253</td><td>⋯  </td><td>253</td><td>253</td><td>253</td><td>253</td><td>210</td><td>43 </td><td>0  </td><td>0  </td><td>0  </td><td>0  </td></tr>\n",
       "\t<tr><td>0  </td><td>0  </td><td>0  </td><td>0  </td><td> 0 </td><td>  0</td><td> 39</td><td> 34</td><td> 34</td><td> 34</td><td>⋯  </td><td>253</td><td>253</td><td>253</td><td>253</td><td>236</td><td>64 </td><td>0  </td><td>0  </td><td>0  </td><td>0  </td></tr>\n",
       "\t<tr><td>0  </td><td>0  </td><td>0  </td><td>0  </td><td> 0 </td><td>  0</td><td> 91</td><td>  0</td><td>  0</td><td>  0</td><td>⋯  </td><td>253</td><td>253</td><td>253</td><td>244</td><td> 81</td><td> 0 </td><td>0  </td><td>0  </td><td>0  </td><td>0  </td></tr>\n",
       "\t<tr><td>0  </td><td>0  </td><td>0  </td><td>0  </td><td> 0 </td><td>  0</td><td>  0</td><td>  0</td><td>  0</td><td>  0</td><td>⋯  </td><td>253</td><td>253</td><td>241</td><td> 89</td><td>  0</td><td> 0 </td><td>0  </td><td>0  </td><td>0  </td><td>0  </td></tr>\n",
       "\t<tr><td>0  </td><td>0  </td><td>0  </td><td>0  </td><td> 0 </td><td>  0</td><td>  0</td><td>  0</td><td>  0</td><td>  0</td><td>⋯  </td><td>253</td><td>238</td><td> 82</td><td>  0</td><td>  0</td><td> 0 </td><td>0  </td><td>0  </td><td>0  </td><td>0  </td></tr>\n",
       "\t<tr><td>0  </td><td>0  </td><td>0  </td><td>0  </td><td> 0 </td><td>  0</td><td>  0</td><td>  0</td><td>  0</td><td>  0</td><td>⋯  </td><td>253</td><td> 96</td><td>  0</td><td>  0</td><td>  0</td><td> 0 </td><td>0  </td><td>0  </td><td>0  </td><td>0  </td></tr>\n",
       "\t<tr><td>0  </td><td>0  </td><td>0  </td><td>0  </td><td> 0 </td><td>  0</td><td>  0</td><td>  0</td><td>  0</td><td>  0</td><td>⋯  </td><td>253</td><td>230</td><td> 49</td><td>  0</td><td>  0</td><td> 0 </td><td>0  </td><td>0  </td><td>0  </td><td>0  </td></tr>\n",
       "\t<tr><td>0  </td><td>0  </td><td>0  </td><td>0  </td><td> 0 </td><td>  0</td><td>  0</td><td>  0</td><td>  0</td><td>  0</td><td>⋯  </td><td>253</td><td>253</td><td>138</td><td>  0</td><td>  0</td><td> 0 </td><td>0  </td><td>0  </td><td>0  </td><td>0  </td></tr>\n",
       "\t<tr><td>0  </td><td>0  </td><td>0  </td><td>0  </td><td> 0 </td><td>  0</td><td>  0</td><td>  0</td><td>  0</td><td>  0</td><td>⋯  </td><td>253</td><td>253</td><td>250</td><td> 59</td><td>  0</td><td> 0 </td><td>0  </td><td>0  </td><td>0  </td><td>0  </td></tr>\n",
       "\t<tr><td>0  </td><td>0  </td><td>0  </td><td>0  </td><td> 0 </td><td>  0</td><td>  0</td><td>  0</td><td>  0</td><td>  0</td><td>⋯  </td><td>253</td><td>253</td><td>253</td><td> 60</td><td>  0</td><td> 0 </td><td>0  </td><td>0  </td><td>0  </td><td>0  </td></tr>\n",
       "\t<tr><td>0  </td><td>0  </td><td>0  </td><td>0  </td><td> 0 </td><td>  0</td><td>  0</td><td>  0</td><td>  0</td><td>  0</td><td>⋯  </td><td>253</td><td>253</td><td>150</td><td>  6</td><td>  0</td><td> 0 </td><td>0  </td><td>0  </td><td>0  </td><td>0  </td></tr>\n",
       "\t<tr><td>0  </td><td>0  </td><td>0  </td><td>0  </td><td> 0 </td><td>  0</td><td>  0</td><td>  0</td><td>  0</td><td>  0</td><td>⋯  </td><td>253</td><td>253</td><td>138</td><td>  0</td><td>  0</td><td> 0 </td><td>0  </td><td>0  </td><td>0  </td><td>0  </td></tr>\n",
       "\t<tr><td>0  </td><td>0  </td><td>0  </td><td>0  </td><td>66 </td><td>211</td><td>211</td><td>211</td><td> 59</td><td> 36</td><td>⋯  </td><td>253</td><td>253</td><td>138</td><td>  0</td><td>  0</td><td> 0 </td><td>0  </td><td>0  </td><td>0  </td><td>0  </td></tr>\n",
       "\t<tr><td>0  </td><td>0  </td><td>0  </td><td>0  </td><td>80 </td><td>253</td><td>253</td><td>253</td><td>253</td><td>253</td><td>⋯  </td><td>253</td><td>157</td><td> 77</td><td>  0</td><td>  0</td><td> 0 </td><td>0  </td><td>0  </td><td>0  </td><td>0  </td></tr>\n",
       "\t<tr><td>0  </td><td>0  </td><td>0  </td><td>0  </td><td>80 </td><td>253</td><td>253</td><td>253</td><td>253</td><td>253</td><td>⋯  </td><td>235</td><td> 40</td><td>  0</td><td>  0</td><td>  0</td><td> 0 </td><td>0  </td><td>0  </td><td>0  </td><td>0  </td></tr>\n",
       "\t<tr><td>0  </td><td>0  </td><td>0  </td><td>0  </td><td>49 </td><td>156</td><td>247</td><td>253</td><td>253</td><td>253</td><td>⋯  </td><td>  0</td><td>  0</td><td>  0</td><td>  0</td><td>  0</td><td> 0 </td><td>0  </td><td>0  </td><td>0  </td><td>0  </td></tr>\n",
       "\t<tr><td>0  </td><td>0  </td><td>0  </td><td>0  </td><td> 0 </td><td>  0</td><td>116</td><td>253</td><td>253</td><td>253</td><td>⋯  </td><td>  0</td><td>  0</td><td>  0</td><td>  0</td><td>  0</td><td> 0 </td><td>0  </td><td>0  </td><td>0  </td><td>0  </td></tr>\n",
       "\t<tr><td>0  </td><td>0  </td><td>0  </td><td>0  </td><td> 0 </td><td>  0</td><td>  0</td><td>  0</td><td>  0</td><td>  0</td><td>⋯  </td><td>  0</td><td>  0</td><td>  0</td><td>  0</td><td>  0</td><td> 0 </td><td>0  </td><td>0  </td><td>0  </td><td>0  </td></tr>\n",
       "\t<tr><td>0  </td><td>0  </td><td>0  </td><td>0  </td><td> 0 </td><td>  0</td><td>  0</td><td>  0</td><td>  0</td><td>  0</td><td>⋯  </td><td>  0</td><td>  0</td><td>  0</td><td>  0</td><td>  0</td><td> 0 </td><td>0  </td><td>0  </td><td>0  </td><td>0  </td></tr>\n",
       "\t<tr><td>0  </td><td>0  </td><td>0  </td><td>0  </td><td> 0 </td><td>  0</td><td>  0</td><td>  0</td><td>  0</td><td>  0</td><td>⋯  </td><td>  0</td><td>  0</td><td>  0</td><td>  0</td><td>  0</td><td> 0 </td><td>0  </td><td>0  </td><td>0  </td><td>0  </td></tr>\n",
       "</tbody>\n",
       "</table>\n"
      ],
      "text/latex": [
       "\\begin{tabular}{llllllllllllllllllllllllllll}\n",
       "\t 0   & 0   & 0   & 0   &  0  &   0 &   0 &   0 &   0 &   0 & ⋯   &   0 &   0 &   0 &   0 &   0 &  0  & 0   & 0   & 0   & 0  \\\\\n",
       "\t 0   & 0   & 0   & 0   &  0  &   0 &   0 &   0 &   0 &   0 & ⋯   &   0 &   0 &   0 &   0 &   0 &  0  & 0   & 0   & 0   & 0  \\\\\n",
       "\t 0   & 0   & 0   & 0   &  0  &   0 &   0 &   0 &   0 &   0 & ⋯   &   0 &   0 &   0 &   0 &   0 &  0  & 0   & 0   & 0   & 0  \\\\\n",
       "\t 0   & 0   & 0   & 0   &  0  &   0 &   0 &   0 &   0 &   0 & ⋯   &   0 &   0 &   0 &   0 &   0 &  0  & 0   & 0   & 0   & 0  \\\\\n",
       "\t 0   & 0   & 0   & 0   &  0  &   0 &   0 &   0 &   0 &   0 & ⋯   &   0 &   0 &   0 &   0 &   0 &  0  & 0   & 0   & 0   & 0  \\\\\n",
       "\t 0   & 0   & 0   & 0   &  0  &   0 &   0 &   0 &   0 &   0 & ⋯   &  80 &  80 &  44 &   0 &   0 &  0  & 0   & 0   & 0   & 0  \\\\\n",
       "\t 0   & 0   & 0   & 0   &  0  &   0 &  39 & 158 & 158 & 158 & ⋯   & 253 & 253 & 210 &  38 &   0 &  0  & 0   & 0   & 0   & 0  \\\\\n",
       "\t 0   & 0   & 0   & 0   &  0  &   0 & 226 & 253 & 253 & 253 & ⋯   & 253 & 253 & 253 & 241 & 146 &  0  & 0   & 0   & 0   & 0  \\\\\n",
       "\t 0   & 0   & 0   & 0   &  0  &   0 & 139 & 253 & 253 & 253 & ⋯   & 253 & 253 & 253 & 253 & 210 & 43  & 0   & 0   & 0   & 0  \\\\\n",
       "\t 0   & 0   & 0   & 0   &  0  &   0 &  39 &  34 &  34 &  34 & ⋯   & 253 & 253 & 253 & 253 & 236 & 64  & 0   & 0   & 0   & 0  \\\\\n",
       "\t 0   & 0   & 0   & 0   &  0  &   0 &  91 &   0 &   0 &   0 & ⋯   & 253 & 253 & 253 & 244 &  81 &  0  & 0   & 0   & 0   & 0  \\\\\n",
       "\t 0   & 0   & 0   & 0   &  0  &   0 &   0 &   0 &   0 &   0 & ⋯   & 253 & 253 & 241 &  89 &   0 &  0  & 0   & 0   & 0   & 0  \\\\\n",
       "\t 0   & 0   & 0   & 0   &  0  &   0 &   0 &   0 &   0 &   0 & ⋯   & 253 & 238 &  82 &   0 &   0 &  0  & 0   & 0   & 0   & 0  \\\\\n",
       "\t 0   & 0   & 0   & 0   &  0  &   0 &   0 &   0 &   0 &   0 & ⋯   & 253 &  96 &   0 &   0 &   0 &  0  & 0   & 0   & 0   & 0  \\\\\n",
       "\t 0   & 0   & 0   & 0   &  0  &   0 &   0 &   0 &   0 &   0 & ⋯   & 253 & 230 &  49 &   0 &   0 &  0  & 0   & 0   & 0   & 0  \\\\\n",
       "\t 0   & 0   & 0   & 0   &  0  &   0 &   0 &   0 &   0 &   0 & ⋯   & 253 & 253 & 138 &   0 &   0 &  0  & 0   & 0   & 0   & 0  \\\\\n",
       "\t 0   & 0   & 0   & 0   &  0  &   0 &   0 &   0 &   0 &   0 & ⋯   & 253 & 253 & 250 &  59 &   0 &  0  & 0   & 0   & 0   & 0  \\\\\n",
       "\t 0   & 0   & 0   & 0   &  0  &   0 &   0 &   0 &   0 &   0 & ⋯   & 253 & 253 & 253 &  60 &   0 &  0  & 0   & 0   & 0   & 0  \\\\\n",
       "\t 0   & 0   & 0   & 0   &  0  &   0 &   0 &   0 &   0 &   0 & ⋯   & 253 & 253 & 150 &   6 &   0 &  0  & 0   & 0   & 0   & 0  \\\\\n",
       "\t 0   & 0   & 0   & 0   &  0  &   0 &   0 &   0 &   0 &   0 & ⋯   & 253 & 253 & 138 &   0 &   0 &  0  & 0   & 0   & 0   & 0  \\\\\n",
       "\t 0   & 0   & 0   & 0   & 66  & 211 & 211 & 211 &  59 &  36 & ⋯   & 253 & 253 & 138 &   0 &   0 &  0  & 0   & 0   & 0   & 0  \\\\\n",
       "\t 0   & 0   & 0   & 0   & 80  & 253 & 253 & 253 & 253 & 253 & ⋯   & 253 & 157 &  77 &   0 &   0 &  0  & 0   & 0   & 0   & 0  \\\\\n",
       "\t 0   & 0   & 0   & 0   & 80  & 253 & 253 & 253 & 253 & 253 & ⋯   & 235 &  40 &   0 &   0 &   0 &  0  & 0   & 0   & 0   & 0  \\\\\n",
       "\t 0   & 0   & 0   & 0   & 49  & 156 & 247 & 253 & 253 & 253 & ⋯   &   0 &   0 &   0 &   0 &   0 &  0  & 0   & 0   & 0   & 0  \\\\\n",
       "\t 0   & 0   & 0   & 0   &  0  &   0 & 116 & 253 & 253 & 253 & ⋯   &   0 &   0 &   0 &   0 &   0 &  0  & 0   & 0   & 0   & 0  \\\\\n",
       "\t 0   & 0   & 0   & 0   &  0  &   0 &   0 &   0 &   0 &   0 & ⋯   &   0 &   0 &   0 &   0 &   0 &  0  & 0   & 0   & 0   & 0  \\\\\n",
       "\t 0   & 0   & 0   & 0   &  0  &   0 &   0 &   0 &   0 &   0 & ⋯   &   0 &   0 &   0 &   0 &   0 &  0  & 0   & 0   & 0   & 0  \\\\\n",
       "\t 0   & 0   & 0   & 0   &  0  &   0 &   0 &   0 &   0 &   0 & ⋯   &   0 &   0 &   0 &   0 &   0 &  0  & 0   & 0   & 0   & 0  \\\\\n",
       "\\end{tabular}\n"
      ],
      "text/markdown": [
       "\n",
       "| 0   | 0   | 0   | 0   |  0  |   0 |   0 |   0 |   0 |   0 | ⋯   |   0 |   0 |   0 |   0 |   0 |  0  | 0   | 0   | 0   | 0   | \n",
       "| 0   | 0   | 0   | 0   |  0  |   0 |   0 |   0 |   0 |   0 | ⋯   |   0 |   0 |   0 |   0 |   0 |  0  | 0   | 0   | 0   | 0   | \n",
       "| 0   | 0   | 0   | 0   |  0  |   0 |   0 |   0 |   0 |   0 | ⋯   |   0 |   0 |   0 |   0 |   0 |  0  | 0   | 0   | 0   | 0   | \n",
       "| 0   | 0   | 0   | 0   |  0  |   0 |   0 |   0 |   0 |   0 | ⋯   |   0 |   0 |   0 |   0 |   0 |  0  | 0   | 0   | 0   | 0   | \n",
       "| 0   | 0   | 0   | 0   |  0  |   0 |   0 |   0 |   0 |   0 | ⋯   |   0 |   0 |   0 |   0 |   0 |  0  | 0   | 0   | 0   | 0   | \n",
       "| 0   | 0   | 0   | 0   |  0  |   0 |   0 |   0 |   0 |   0 | ⋯   |  80 |  80 |  44 |   0 |   0 |  0  | 0   | 0   | 0   | 0   | \n",
       "| 0   | 0   | 0   | 0   |  0  |   0 |  39 | 158 | 158 | 158 | ⋯   | 253 | 253 | 210 |  38 |   0 |  0  | 0   | 0   | 0   | 0   | \n",
       "| 0   | 0   | 0   | 0   |  0  |   0 | 226 | 253 | 253 | 253 | ⋯   | 253 | 253 | 253 | 241 | 146 |  0  | 0   | 0   | 0   | 0   | \n",
       "| 0   | 0   | 0   | 0   |  0  |   0 | 139 | 253 | 253 | 253 | ⋯   | 253 | 253 | 253 | 253 | 210 | 43  | 0   | 0   | 0   | 0   | \n",
       "| 0   | 0   | 0   | 0   |  0  |   0 |  39 |  34 |  34 |  34 | ⋯   | 253 | 253 | 253 | 253 | 236 | 64  | 0   | 0   | 0   | 0   | \n",
       "| 0   | 0   | 0   | 0   |  0  |   0 |  91 |   0 |   0 |   0 | ⋯   | 253 | 253 | 253 | 244 |  81 |  0  | 0   | 0   | 0   | 0   | \n",
       "| 0   | 0   | 0   | 0   |  0  |   0 |   0 |   0 |   0 |   0 | ⋯   | 253 | 253 | 241 |  89 |   0 |  0  | 0   | 0   | 0   | 0   | \n",
       "| 0   | 0   | 0   | 0   |  0  |   0 |   0 |   0 |   0 |   0 | ⋯   | 253 | 238 |  82 |   0 |   0 |  0  | 0   | 0   | 0   | 0   | \n",
       "| 0   | 0   | 0   | 0   |  0  |   0 |   0 |   0 |   0 |   0 | ⋯   | 253 |  96 |   0 |   0 |   0 |  0  | 0   | 0   | 0   | 0   | \n",
       "| 0   | 0   | 0   | 0   |  0  |   0 |   0 |   0 |   0 |   0 | ⋯   | 253 | 230 |  49 |   0 |   0 |  0  | 0   | 0   | 0   | 0   | \n",
       "| 0   | 0   | 0   | 0   |  0  |   0 |   0 |   0 |   0 |   0 | ⋯   | 253 | 253 | 138 |   0 |   0 |  0  | 0   | 0   | 0   | 0   | \n",
       "| 0   | 0   | 0   | 0   |  0  |   0 |   0 |   0 |   0 |   0 | ⋯   | 253 | 253 | 250 |  59 |   0 |  0  | 0   | 0   | 0   | 0   | \n",
       "| 0   | 0   | 0   | 0   |  0  |   0 |   0 |   0 |   0 |   0 | ⋯   | 253 | 253 | 253 |  60 |   0 |  0  | 0   | 0   | 0   | 0   | \n",
       "| 0   | 0   | 0   | 0   |  0  |   0 |   0 |   0 |   0 |   0 | ⋯   | 253 | 253 | 150 |   6 |   0 |  0  | 0   | 0   | 0   | 0   | \n",
       "| 0   | 0   | 0   | 0   |  0  |   0 |   0 |   0 |   0 |   0 | ⋯   | 253 | 253 | 138 |   0 |   0 |  0  | 0   | 0   | 0   | 0   | \n",
       "| 0   | 0   | 0   | 0   | 66  | 211 | 211 | 211 |  59 |  36 | ⋯   | 253 | 253 | 138 |   0 |   0 |  0  | 0   | 0   | 0   | 0   | \n",
       "| 0   | 0   | 0   | 0   | 80  | 253 | 253 | 253 | 253 | 253 | ⋯   | 253 | 157 |  77 |   0 |   0 |  0  | 0   | 0   | 0   | 0   | \n",
       "| 0   | 0   | 0   | 0   | 80  | 253 | 253 | 253 | 253 | 253 | ⋯   | 235 |  40 |   0 |   0 |   0 |  0  | 0   | 0   | 0   | 0   | \n",
       "| 0   | 0   | 0   | 0   | 49  | 156 | 247 | 253 | 253 | 253 | ⋯   |   0 |   0 |   0 |   0 |   0 |  0  | 0   | 0   | 0   | 0   | \n",
       "| 0   | 0   | 0   | 0   |  0  |   0 | 116 | 253 | 253 | 253 | ⋯   |   0 |   0 |   0 |   0 |   0 |  0  | 0   | 0   | 0   | 0   | \n",
       "| 0   | 0   | 0   | 0   |  0  |   0 |   0 |   0 |   0 |   0 | ⋯   |   0 |   0 |   0 |   0 |   0 |  0  | 0   | 0   | 0   | 0   | \n",
       "| 0   | 0   | 0   | 0   |  0  |   0 |   0 |   0 |   0 |   0 | ⋯   |   0 |   0 |   0 |   0 |   0 |  0  | 0   | 0   | 0   | 0   | \n",
       "| 0   | 0   | 0   | 0   |  0  |   0 |   0 |   0 |   0 |   0 | ⋯   |   0 |   0 |   0 |   0 |   0 |  0  | 0   | 0   | 0   | 0   | \n",
       "\n",
       "\n"
      ],
      "text/plain": [
       "      [,1] [,2] [,3] [,4] [,5] [,6] [,7] [,8] [,9] [,10] [,11] [,12] [,13]\n",
       " [1,] 0    0    0    0     0     0    0    0    0    0   ⋯       0     0  \n",
       " [2,] 0    0    0    0     0     0    0    0    0    0   ⋯       0     0  \n",
       " [3,] 0    0    0    0     0     0    0    0    0    0   ⋯       0     0  \n",
       " [4,] 0    0    0    0     0     0    0    0    0    0   ⋯       0     0  \n",
       " [5,] 0    0    0    0     0     0    0    0    0    0   ⋯       0     0  \n",
       " [6,] 0    0    0    0     0     0    0    0    0    0   ⋯      80    80  \n",
       " [7,] 0    0    0    0     0     0   39  158  158  158   ⋯     253   253  \n",
       " [8,] 0    0    0    0     0     0  226  253  253  253   ⋯     253   253  \n",
       " [9,] 0    0    0    0     0     0  139  253  253  253   ⋯     253   253  \n",
       "[10,] 0    0    0    0     0     0   39   34   34   34   ⋯     253   253  \n",
       "[11,] 0    0    0    0     0     0   91    0    0    0   ⋯     253   253  \n",
       "[12,] 0    0    0    0     0     0    0    0    0    0   ⋯     253   253  \n",
       "[13,] 0    0    0    0     0     0    0    0    0    0   ⋯     253   238  \n",
       "[14,] 0    0    0    0     0     0    0    0    0    0   ⋯     253    96  \n",
       "[15,] 0    0    0    0     0     0    0    0    0    0   ⋯     253   230  \n",
       "[16,] 0    0    0    0     0     0    0    0    0    0   ⋯     253   253  \n",
       "[17,] 0    0    0    0     0     0    0    0    0    0   ⋯     253   253  \n",
       "[18,] 0    0    0    0     0     0    0    0    0    0   ⋯     253   253  \n",
       "[19,] 0    0    0    0     0     0    0    0    0    0   ⋯     253   253  \n",
       "[20,] 0    0    0    0     0     0    0    0    0    0   ⋯     253   253  \n",
       "[21,] 0    0    0    0    66   211  211  211   59   36   ⋯     253   253  \n",
       "[22,] 0    0    0    0    80   253  253  253  253  253   ⋯     253   157  \n",
       "[23,] 0    0    0    0    80   253  253  253  253  253   ⋯     235    40  \n",
       "[24,] 0    0    0    0    49   156  247  253  253  253   ⋯       0     0  \n",
       "[25,] 0    0    0    0     0     0  116  253  253  253   ⋯       0     0  \n",
       "[26,] 0    0    0    0     0     0    0    0    0    0   ⋯       0     0  \n",
       "[27,] 0    0    0    0     0     0    0    0    0    0   ⋯       0     0  \n",
       "[28,] 0    0    0    0     0     0    0    0    0    0   ⋯       0     0  \n",
       "      [,14] [,15] [,16] [,17] [,18] [,19] [,20] [,21]\n",
       " [1,]   0     0     0    0    0     0     0     0    \n",
       " [2,]   0     0     0    0    0     0     0     0    \n",
       " [3,]   0     0     0    0    0     0     0     0    \n",
       " [4,]   0     0     0    0    0     0     0     0    \n",
       " [5,]   0     0     0    0    0     0     0     0    \n",
       " [6,]  44     0     0    0    0     0     0     0    \n",
       " [7,] 210    38     0    0    0     0     0     0    \n",
       " [8,] 253   241   146    0    0     0     0     0    \n",
       " [9,] 253   253   210   43    0     0     0     0    \n",
       "[10,] 253   253   236   64    0     0     0     0    \n",
       "[11,] 253   244    81    0    0     0     0     0    \n",
       "[12,] 241    89     0    0    0     0     0     0    \n",
       "[13,]  82     0     0    0    0     0     0     0    \n",
       "[14,]   0     0     0    0    0     0     0     0    \n",
       "[15,]  49     0     0    0    0     0     0     0    \n",
       "[16,] 138     0     0    0    0     0     0     0    \n",
       "[17,] 250    59     0    0    0     0     0     0    \n",
       "[18,] 253    60     0    0    0     0     0     0    \n",
       "[19,] 150     6     0    0    0     0     0     0    \n",
       "[20,] 138     0     0    0    0     0     0     0    \n",
       "[21,] 138     0     0    0    0     0     0     0    \n",
       "[22,]  77     0     0    0    0     0     0     0    \n",
       "[23,]   0     0     0    0    0     0     0     0    \n",
       "[24,]   0     0     0    0    0     0     0     0    \n",
       "[25,]   0     0     0    0    0     0     0     0    \n",
       "[26,]   0     0     0    0    0     0     0     0    \n",
       "[27,]   0     0     0    0    0     0     0     0    \n",
       "[28,]   0     0     0    0    0     0     0     0    "
      ]
     },
     "metadata": {},
     "output_type": "display_data"
    }
   ],
   "source": [
    "input_matrix"
   ]
  },
  {
   "cell_type": "markdown",
   "metadata": {},
   "source": [
    "# 3 Convolutional Neural Network Model\n",
    "In this section, we will show how to use Convolutional Neural Network (CNN) for the MNIST handwritten dataset to classcify images into digits. It is exactly the same problem as what we just learnt before, but CNN is a much better deep learning methods for image recognition than a generic deep neural network. CNN leverages the relatinoship among neighbor pixcels in the 2D image for better performance. It also avoids generating thousands or millions of features for high resolution images with full color. This example is described at: https://keras.rstudio.com/articles/examples/mnist_cnn.html"
   ]
  },
  {
   "cell_type": "markdown",
   "metadata": {},
   "source": [
    "## 3.1 Dataset import and parameter setup\n",
    "Now let's import the MNIST dataset from scratch again as we have done some preprocessing specifically for a deep neural network model at last section. For CNN, there are different preprocessing steps invovled. We also define a few parameters to be used later."
   ]
  },
  {
   "cell_type": "code",
   "execution_count": 7,
   "metadata": {},
   "outputs": [],
   "source": [
    "# Load the mnist data's training and testing dataset\n",
    "mnist <- dataset_mnist()\n",
    "x_train <- mnist$train$x\n",
    "y_train <- mnist$train$y\n",
    "x_test <- mnist$test$x\n",
    "y_test <- mnist$test$y"
   ]
  },
  {
   "cell_type": "code",
   "execution_count": 8,
   "metadata": {},
   "outputs": [],
   "source": [
    "# Define a few parameters to be used in the CNN model\n",
    "batch_size <- 128\n",
    "num_classes <- 10\n",
    "epochs <- 10\n",
    "\n",
    "# Input image dimensions\n",
    "img_rows <- 28\n",
    "img_cols <- 28"
   ]
  },
  {
   "cell_type": "markdown",
   "metadata": {},
   "source": [
    "# 3.2 Data preprocessing\n",
    "For CNN method in general, the input of a MxN image is a MxNxK 3D arrays with K specific channels. For example, a greyscale MxN image has only one channel, and the input is MxNx1 tensor. An MXN 8-bit per channel RGB image has three channels with 3 MxN array with values between 0 and 255, so the input is MxNx3 tensor. For the problem that we have now, the image is greyscale, but we need to specifically define there is one channel by reshape the 2D array into 3D tensor using array_reshape(). The input_shape variable will be used in the CNN model later. For RGB color image, the nmber of channels is 3 and we need to replace \"1\" with \"3\" for the code cell below if the input image is RGB format."
   ]
  },
  {
   "cell_type": "markdown",
   "metadata": {},
   "source": [
    "### 3.2.1 Add channel into the dimension"
   ]
  },
  {
   "cell_type": "code",
   "execution_count": 9,
   "metadata": {},
   "outputs": [],
   "source": [
    "x_train <- array_reshape(x_train, c(nrow(x_train), img_rows, img_cols, 1))\n",
    "x_test <- array_reshape(x_test, c(nrow(x_test), img_rows, img_cols, 1))\n",
    "input_shape <- c(img_rows, img_cols, 1)"
   ]
  },
  {
   "cell_type": "markdown",
   "metadata": {},
   "source": [
    "Here is the structure of the reshaped image, the first dimension is the image index, the 2-4 dimension is a 3D tensor even though there is only one channel."
   ]
  },
  {
   "cell_type": "code",
   "execution_count": 10,
   "metadata": {},
   "outputs": [
    {
     "name": "stdout",
     "output_type": "stream",
     "text": [
      " int [1:60000, 1:28, 1:28, 1] 0 0 0 0 0 0 0 0 0 0 ...\n"
     ]
    }
   ],
   "source": [
    "str(x_train)"
   ]
  },
  {
   "cell_type": "markdown",
   "metadata": {},
   "source": [
    "### 3.2.2 Scaling"
   ]
  },
  {
   "cell_type": "markdown",
   "metadata": {},
   "source": [
    "Same as the DNN model, we scale the input values to be between 0 and 1 for the same numerical stability consideration in the optimization process."
   ]
  },
  {
   "cell_type": "code",
   "execution_count": 11,
   "metadata": {},
   "outputs": [],
   "source": [
    "x_train <- x_train / 255\n",
    "x_test <- x_test / 255"
   ]
  },
  {
   "cell_type": "markdown",
   "metadata": {},
   "source": [
    "### 3.2.3 Convert response to categorical variable\n",
    "Same as DNN model, the response variable is converted into categorical."
   ]
  },
  {
   "cell_type": "code",
   "execution_count": 12,
   "metadata": {},
   "outputs": [],
   "source": [
    "# Convert class vectors to binary class matrices\n",
    "y_train <- to_categorical(y_train, num_classes)\n",
    "y_test <- to_categorical(y_test, num_classes)"
   ]
  },
  {
   "cell_type": "markdown",
   "metadata": {},
   "source": [
    "## 3.3 Fit a CNN model\n",
    "As we discussed, CNN model contains a series 2D convolutional layers which contains a few parameters: (1) the kernal_size which is typically 3x3 or 5x5; (2) the number of filters, which corresponding to the number of channels (i.e. the 3rd dimension) in the output tensor; (3) activation funtion. For the first layer, there is also an input_shape parameter which is the input image size and channel. To prevent overfitting and speed up computation, a pooling layer is usually applied after one or a few 2D convolutional layers. A typial pooling of return the maximum of a 2x2 pool_size as the new value in the output which essentially reduce the size to half. Dropout can be used as well in addtion to pooling neighbor values. After a few 2D convolutional layers, we also need 'flattern' the 3D tensor output into 1D tensor, and then add one or a couple of dense layers to connect the output from 2D convolutional layers to the target response classes."
   ]
  },
  {
   "cell_type": "markdown",
   "metadata": {},
   "source": [
    "### 3.3.1 Define a CNN model structure\n",
    "Now we define a CNN model with two 2D convolutional layers with max pooling, and the 2nd layer with additonal dropout to prevent overfitting. Then flatten the output and use two dense layers to connect to the categoires of the image."
   ]
  },
  {
   "cell_type": "code",
   "execution_count": 13,
   "metadata": {},
   "outputs": [],
   "source": [
    "# define model structure \n",
    "cnn_model <- keras_model_sequential() %>%\n",
    "  layer_conv_2d(filters = 32, kernel_size = c(3,3), activation = 'relu', input_shape = input_shape) %>% \n",
    "  layer_max_pooling_2d(pool_size = c(2, 2)) %>% \n",
    "  layer_conv_2d(filters = 64, kernel_size = c(3,3), activation = 'relu') %>% \n",
    "  layer_max_pooling_2d(pool_size = c(2, 2)) %>% \n",
    "  layer_dropout(rate = 0.25) %>% \n",
    "  layer_flatten() %>% \n",
    "  layer_dense(units = 128, activation = 'relu') %>% \n",
    "  layer_dropout(rate = 0.5) %>% \n",
    "  layer_dense(units = num_classes, activation = 'softmax')\n"
   ]
  },
  {
   "cell_type": "code",
   "execution_count": 14,
   "metadata": {},
   "outputs": [
    {
     "name": "stdout",
     "output_type": "stream",
     "text": [
      "________________________________________________________________________________\n",
      "Layer (type)                        Output Shape                    Param #     \n",
      "================================================================================\n",
      "conv2d_1 (Conv2D)                   (None, 26, 26, 32)              320         \n",
      "________________________________________________________________________________\n",
      "max_pooling2d_1 (MaxPooling2D)      (None, 13, 13, 32)              0           \n",
      "________________________________________________________________________________\n",
      "conv2d_2 (Conv2D)                   (None, 11, 11, 64)              18496       \n",
      "________________________________________________________________________________\n",
      "max_pooling2d_2 (MaxPooling2D)      (None, 5, 5, 64)                0           \n",
      "________________________________________________________________________________\n",
      "dropout_1 (Dropout)                 (None, 5, 5, 64)                0           \n",
      "________________________________________________________________________________\n",
      "flatten_1 (Flatten)                 (None, 1600)                    0           \n",
      "________________________________________________________________________________\n",
      "dense_1 (Dense)                     (None, 128)                     204928      \n",
      "________________________________________________________________________________\n",
      "dropout_2 (Dropout)                 (None, 128)                     0           \n",
      "________________________________________________________________________________\n",
      "dense_2 (Dense)                     (None, 10)                      1290        \n",
      "================================================================================\n",
      "Total params: 225,034\n",
      "Trainable params: 225,034\n",
      "Non-trainable params: 0\n",
      "________________________________________________________________________________\n"
     ]
    }
   ],
   "source": [
    "summary(cnn_model)"
   ]
  },
  {
   "cell_type": "markdown",
   "metadata": {},
   "source": [
    "### 3.3.2 Compile the model\n",
    "Similar to DNN model, we need to compile the defined CNN model."
   ]
  },
  {
   "cell_type": "code",
   "execution_count": 15,
   "metadata": {},
   "outputs": [],
   "source": [
    "# Compile model\n",
    "cnn_model %>% compile(\n",
    "  loss = loss_categorical_crossentropy,\n",
    "  optimizer = optimizer_adadelta(),\n",
    "  metrics = c('accuracy')\n",
    ")"
   ]
  },
  {
   "cell_type": "markdown",
   "metadata": {},
   "source": [
    "Train the model and save each epochs's history. Please note, as we are not using GPU, it takes a few minutes to finish. Please be patient while waiting for the results. The training time can be significantly reduced if running on GPU."
   ]
  },
  {
   "cell_type": "markdown",
   "metadata": {},
   "source": [
    "### 3.3.3 Train the model\n",
    "Now, we can train the model with our processed data. Each epochs's history can be saved to track the progress. Please note, as we are not using GPU, it takes a few minutes to finish. Please be patient while waiting for the results. The training time can be significantly reduced if running on GPU."
   ]
  },
  {
   "cell_type": "code",
   "execution_count": 16,
   "metadata": {},
   "outputs": [],
   "source": [
    "# Train model\n",
    "cnn_history <- cnn_model %>% fit(\n",
    "  x_train, y_train,\n",
    "  batch_size = batch_size,\n",
    "  epochs = epochs,\n",
    "  validation_split = 0.2\n",
    ")"
   ]
  },
  {
   "cell_type": "code",
   "execution_count": 17,
   "metadata": {},
   "outputs": [
    {
     "data": {},
     "metadata": {},
     "output_type": "display_data"
    },
    {
     "data": {
      "image/png": "[encoded data removed]",
      "text/plain": [
       "plot without title"
      ]
     },
     "metadata": {},
     "output_type": "display_data"
    }
   ],
   "source": [
    "plot(cnn_history)"
   ]
  },
  {
   "cell_type": "markdown",
   "metadata": {},
   "source": [
    "The trained model accuracy can be evaluated on the testing dataset which is pretty good."
   ]
  },
  {
   "cell_type": "code",
   "execution_count": 18,
   "metadata": {},
   "outputs": [
    {
     "data": {
      "text/html": [
       "<dl>\n",
       "\t<dt>$loss</dt>\n",
       "\t\t<dd>0.0257244014439857</dd>\n",
       "\t<dt>$acc</dt>\n",
       "\t\t<dd>0.9905</dd>\n",
       "</dl>\n"
      ],
      "text/latex": [
       "\\begin{description}\n",
       "\\item[\\$loss] 0.0257244014439857\n",
       "\\item[\\$acc] 0.9905\n",
       "\\end{description}\n"
      ],
      "text/markdown": [
       "$loss\n",
       ":   0.0257244014439857\n",
       "$acc\n",
       ":   0.9905\n",
       "\n",
       "\n"
      ],
      "text/plain": [
       "$loss\n",
       "[1] 0.0257244\n",
       "\n",
       "$acc\n",
       "[1] 0.9905\n"
      ]
     },
     "metadata": {},
     "output_type": "display_data"
    }
   ],
   "source": [
    "cnn_model %>% evaluate(x_test, y_test)"
   ]
  },
  {
   "cell_type": "markdown",
   "metadata": {},
   "source": [
    "## 3.4 Model prediction\n",
    "For any new images, after undergo with the same preprocessing, we can use the trained model to predict which digits the image belongs to."
   ]
  },
  {
   "cell_type": "code",
   "execution_count": 19,
   "metadata": {},
   "outputs": [
    {
     "data": {
      "text/html": [
       "<ol class=list-inline>\n",
       "\t<li>7</li>\n",
       "\t<li>2</li>\n",
       "\t<li>1</li>\n",
       "\t<li>0</li>\n",
       "\t<li>4</li>\n",
       "\t<li>1</li>\n",
       "\t<li>4</li>\n",
       "\t<li>9</li>\n",
       "\t<li>5</li>\n",
       "\t<li>9</li>\n",
       "\t<li>0</li>\n",
       "\t<li>6</li>\n",
       "\t<li>9</li>\n",
       "\t<li>0</li>\n",
       "\t<li>1</li>\n",
       "\t<li>5</li>\n",
       "\t<li>9</li>\n",
       "\t<li>7</li>\n",
       "\t<li>3</li>\n",
       "\t<li>4</li>\n",
       "\t<li>9</li>\n",
       "\t<li>6</li>\n",
       "\t<li>6</li>\n",
       "\t<li>5</li>\n",
       "\t<li>4</li>\n",
       "\t<li>0</li>\n",
       "\t<li>7</li>\n",
       "\t<li>4</li>\n",
       "\t<li>0</li>\n",
       "\t<li>1</li>\n",
       "\t<li>3</li>\n",
       "\t<li>1</li>\n",
       "\t<li>3</li>\n",
       "\t<li>4</li>\n",
       "\t<li>7</li>\n",
       "\t<li>2</li>\n",
       "\t<li>7</li>\n",
       "\t<li>1</li>\n",
       "\t<li>2</li>\n",
       "\t<li>1</li>\n",
       "\t<li>1</li>\n",
       "\t<li>7</li>\n",
       "\t<li>4</li>\n",
       "\t<li>2</li>\n",
       "\t<li>3</li>\n",
       "\t<li>5</li>\n",
       "\t<li>1</li>\n",
       "\t<li>2</li>\n",
       "\t<li>4</li>\n",
       "\t<li>4</li>\n",
       "</ol>\n"
      ],
      "text/latex": [
       "\\begin{enumerate*}\n",
       "\\item 7\n",
       "\\item 2\n",
       "\\item 1\n",
       "\\item 0\n",
       "\\item 4\n",
       "\\item 1\n",
       "\\item 4\n",
       "\\item 9\n",
       "\\item 5\n",
       "\\item 9\n",
       "\\item 0\n",
       "\\item 6\n",
       "\\item 9\n",
       "\\item 0\n",
       "\\item 1\n",
       "\\item 5\n",
       "\\item 9\n",
       "\\item 7\n",
       "\\item 3\n",
       "\\item 4\n",
       "\\item 9\n",
       "\\item 6\n",
       "\\item 6\n",
       "\\item 5\n",
       "\\item 4\n",
       "\\item 0\n",
       "\\item 7\n",
       "\\item 4\n",
       "\\item 0\n",
       "\\item 1\n",
       "\\item 3\n",
       "\\item 1\n",
       "\\item 3\n",
       "\\item 4\n",
       "\\item 7\n",
       "\\item 2\n",
       "\\item 7\n",
       "\\item 1\n",
       "\\item 2\n",
       "\\item 1\n",
       "\\item 1\n",
       "\\item 7\n",
       "\\item 4\n",
       "\\item 2\n",
       "\\item 3\n",
       "\\item 5\n",
       "\\item 1\n",
       "\\item 2\n",
       "\\item 4\n",
       "\\item 4\n",
       "\\end{enumerate*}\n"
      ],
      "text/markdown": [
       "1. 7\n",
       "2. 2\n",
       "3. 1\n",
       "4. 0\n",
       "5. 4\n",
       "6. 1\n",
       "7. 4\n",
       "8. 9\n",
       "9. 5\n",
       "10. 9\n",
       "11. 0\n",
       "12. 6\n",
       "13. 9\n",
       "14. 0\n",
       "15. 1\n",
       "16. 5\n",
       "17. 9\n",
       "18. 7\n",
       "19. 3\n",
       "20. 4\n",
       "21. 9\n",
       "22. 6\n",
       "23. 6\n",
       "24. 5\n",
       "25. 4\n",
       "26. 0\n",
       "27. 7\n",
       "28. 4\n",
       "29. 0\n",
       "30. 1\n",
       "31. 3\n",
       "32. 1\n",
       "33. 3\n",
       "34. 4\n",
       "35. 7\n",
       "36. 2\n",
       "37. 7\n",
       "38. 1\n",
       "39. 2\n",
       "40. 1\n",
       "41. 1\n",
       "42. 7\n",
       "43. 4\n",
       "44. 2\n",
       "45. 3\n",
       "46. 5\n",
       "47. 1\n",
       "48. 2\n",
       "49. 4\n",
       "50. 4\n",
       "\n",
       "\n"
      ],
      "text/plain": [
       " [1] 7 2 1 0 4 1 4 9 5 9 0 6 9 0 1 5 9 7 3 4 9 6 6 5 4 0 7 4 0 1 3 1 3 4 7 2 7 1\n",
       "[39] 2 1 1 7 4 2 3 5 1 2 4 4"
      ]
     },
     "metadata": {},
     "output_type": "display_data"
    }
   ],
   "source": [
    "# model prediction\n",
    "cnn_pred <- cnn_model %>% \n",
    "              predict_classes(x_test)\n",
    "head(cnn_pred, n=50)"
   ]
  },
  {
   "cell_type": "markdown",
   "metadata": {},
   "source": [
    "## 3.5 Check a few mis-classcified images\n",
    "Now let's check a few mis-classcified images to see whether human can do a better job than this simple CNN model."
   ]
  },
  {
   "cell_type": "code",
   "execution_count": 20,
   "metadata": {},
   "outputs": [
    {
     "data": {
      "text/html": [
       "95"
      ],
      "text/latex": [
       "95"
      ],
      "text/markdown": [
       "95"
      ],
      "text/plain": [
       "[1] 95"
      ]
     },
     "metadata": {},
     "output_type": "display_data"
    }
   ],
   "source": [
    "## number of mis-classcified images\n",
    "sum(cnn_pred != mnist$test$y)"
   ]
  },
  {
   "cell_type": "code",
   "execution_count": 21,
   "metadata": {},
   "outputs": [],
   "source": [
    "missed_image = mnist$test$x[cnn_pred != mnist$test$y,,]\n",
    "missed_digit = mnist$test$y[cnn_pred != mnist$test$y]\n",
    "missed_pred = cnn_pred[cnn_pred != mnist$test$y]"
   ]
  },
  {
   "cell_type": "code",
   "execution_count": 22,
   "metadata": {},
   "outputs": [
    {
     "data": {
      "image/png": "[encoded data removed]",
      "text/plain": [
       "plot without title"
      ]
     },
     "metadata": {},
     "output_type": "display_data"
    }
   ],
   "source": [
    "index_image = 6 ## change this index to see different image.\n",
    "input_matrix <- missed_image[index_image,1:28,1:28]\n",
    "output_matrix <- apply(input_matrix, 2, rev)\n",
    "output_matrix <- t(output_matrix)\n",
    "image(1:28, 1:28, output_matrix, col=gray.colors(256), xlab=paste('Image for digit ', missed_digit[index_image], ', wrongly predicted as ', missed_pred[index_image]), ylab=\"\")"
   ]
  },
  {
   "cell_type": "code",
   "execution_count": null,
   "metadata": {},
   "outputs": [],
   "source": []
  }
 ],
 "metadata": {
  "kernelspec": {
   "display_name": "R",
   "language": "R",
   "name": "ir"
  },
  "language_info": {
   "codemirror_mode": "r",
   "file_extension": ".r",
   "mimetype": "text/x-r-source",
   "name": "R",
   "pygments_lexer": "r",
   "version": "3.5.2"
  }
 },
 "nbformat": 4,
 "nbformat_minor": 2
}

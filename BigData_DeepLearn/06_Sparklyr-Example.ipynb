{
 "cells": [
  {
   "cell_type": "markdown",
   "metadata": {},
   "source": [
    "https://sbartek.github.io/sparkRInstall/installSparkReasyWay.html"
   ]
  },
  {
   "cell_type": "code",
   "execution_count": 1,
   "metadata": {},
   "outputs": [
    {
     "name": "stderr",
     "output_type": "stream",
     "text": [
      "\n",
      "Attaching package: ‘SparkR’\n",
      "\n",
      "The following objects are masked from ‘package:stats’:\n",
      "\n",
      "    cov, filter, lag, na.omit, predict, sd, var, window\n",
      "\n",
      "The following objects are masked from ‘package:base’:\n",
      "\n",
      "    as.data.frame, colnames, colnames<-, drop, endsWith, intersect,\n",
      "    rank, rbind, sample, startsWith, subset, summary, transform, union\n",
      "\n",
      "Spark package found in SPARK_HOME: /home/clint/Downloads/spark-2.4.0-bin-hadoop2.7\n"
     ]
    },
    {
     "name": "stdout",
     "output_type": "stream",
     "text": [
      "Launching java with spark-submit command /home/clint/Downloads/spark-2.4.0-bin-hadoop2.7/bin/spark-submit   --driver-memory \"2g\" sparkr-shell /tmp/RtmpmiWfNB/backend_port50927ac2b158 \n"
     ]
    },
    {
     "data": {
      "text/plain": [
       "Java ref type org.apache.spark.sql.SparkSession id 1 "
      ]
     },
     "metadata": {},
     "output_type": "display_data"
    }
   ],
   "source": [
    "spark_path <- '/home/clint/Downloads/spark-2.4.0-bin-hadoop2.7'\n",
    "#if (nchar(Sys.getenv(\"SPARK_HOME\")) < 1) {\n",
    "  Sys.setenv(SPARK_HOME = spark_path)\n",
    "#}\n",
    "library(SparkR, lib.loc = c(file.path(Sys.getenv(\"SPARK_HOME\"), \"R\", \"lib\")))\n",
    "sparkR.session(master = \"local[*]\", sparkConfig = list(spark.driver.memory = \"2g\"))"
   ]
  },
  {
   "cell_type": "code",
   "execution_count": null,
   "metadata": {},
   "outputs": [],
   "source": []
  },
  {
   "cell_type": "code",
   "execution_count": 2,
   "metadata": {},
   "outputs": [
    {
     "data": {
      "text/html": [
       "<table>\n",
       "<thead><tr><th scope=col>spark</th></tr></thead>\n",
       "<tbody>\n",
       "\t<tr><td>1.6.3</td></tr>\n",
       "\t<tr><td>1.6.2</td></tr>\n",
       "\t<tr><td>1.6.1</td></tr>\n",
       "\t<tr><td>1.6.0</td></tr>\n",
       "\t<tr><td>2.0.0</td></tr>\n",
       "\t<tr><td>2.0.1</td></tr>\n",
       "\t<tr><td>2.0.2</td></tr>\n",
       "\t<tr><td>2.1.0</td></tr>\n",
       "\t<tr><td>2.1.1</td></tr>\n",
       "\t<tr><td>2.2.0</td></tr>\n",
       "\t<tr><td>2.2.1</td></tr>\n",
       "\t<tr><td>2.3.0</td></tr>\n",
       "\t<tr><td>2.3.1</td></tr>\n",
       "\t<tr><td>2.3.2</td></tr>\n",
       "\t<tr><td>2.4.0</td></tr>\n",
       "</tbody>\n",
       "</table>\n"
      ],
      "text/latex": [
       "\\begin{tabular}{r|l}\n",
       " spark\\\\\n",
       "\\hline\n",
       "\t 1.6.3\\\\\n",
       "\t 1.6.2\\\\\n",
       "\t 1.6.1\\\\\n",
       "\t 1.6.0\\\\\n",
       "\t 2.0.0\\\\\n",
       "\t 2.0.1\\\\\n",
       "\t 2.0.2\\\\\n",
       "\t 2.1.0\\\\\n",
       "\t 2.1.1\\\\\n",
       "\t 2.2.0\\\\\n",
       "\t 2.2.1\\\\\n",
       "\t 2.3.0\\\\\n",
       "\t 2.3.1\\\\\n",
       "\t 2.3.2\\\\\n",
       "\t 2.4.0\\\\\n",
       "\\end{tabular}\n"
      ],
      "text/markdown": [
       "\n",
       "spark | \n",
       "|---|---|---|---|---|---|---|---|---|---|---|---|---|---|---|\n",
       "| 1.6.3 | \n",
       "| 1.6.2 | \n",
       "| 1.6.1 | \n",
       "| 1.6.0 | \n",
       "| 2.0.0 | \n",
       "| 2.0.1 | \n",
       "| 2.0.2 | \n",
       "| 2.1.0 | \n",
       "| 2.1.1 | \n",
       "| 2.2.0 | \n",
       "| 2.2.1 | \n",
       "| 2.3.0 | \n",
       "| 2.3.1 | \n",
       "| 2.3.2 | \n",
       "| 2.4.0 | \n",
       "\n",
       "\n"
      ],
      "text/plain": [
       "   spark\n",
       "1  1.6.3\n",
       "2  1.6.2\n",
       "3  1.6.1\n",
       "4  1.6.0\n",
       "5  2.0.0\n",
       "6  2.0.1\n",
       "7  2.0.2\n",
       "8  2.1.0\n",
       "9  2.1.1\n",
       "10 2.2.0\n",
       "11 2.2.1\n",
       "12 2.3.0\n",
       "13 2.3.1\n",
       "14 2.3.2\n",
       "15 2.4.0"
      ]
     },
     "metadata": {},
     "output_type": "display_data"
    }
   ],
   "source": [
    "library(sparklyr)\n",
    "spark_available_versions()"
   ]
  },
  {
   "cell_type": "code",
   "execution_count": 3,
   "metadata": {},
   "outputs": [],
   "source": [
    "spark_install(version = \"2.4.0\")"
   ]
  },
  {
   "cell_type": "markdown",
   "metadata": {},
   "source": [
    "# sparkR in sparklyr"
   ]
  },
  {
   "cell_type": "code",
   "execution_count": 4,
   "metadata": {},
   "outputs": [],
   "source": [
    "library(sparklyr)\n",
    "sc <- spark_connect(master = \"local\")"
   ]
  },
  {
   "cell_type": "markdown",
   "metadata": {},
   "source": [
    "# 3. Sample Dataset \n",
    "To simplify the learning process, let us use a very familiar dataset: the iris dataset. It is part of the dplyr library and let's load that library to use the iris data frame. Here the iris dataset is still in the local node where the R notebook is running on. And we can see that the first a few lines of the iris dataset below the code after running:"
   ]
  },
  {
   "cell_type": "code",
   "execution_count": 5,
   "metadata": {},
   "outputs": [
    {
     "name": "stderr",
     "output_type": "stream",
     "text": [
      "\n",
      "Attaching package: ‘dplyr’\n",
      "\n",
      "The following objects are masked from ‘package:SparkR’:\n",
      "\n",
      "    arrange, between, coalesce, collect, contains, count, cume_dist,\n",
      "    dense_rank, desc, distinct, explain, expr, filter, first, group_by,\n",
      "    intersect, lag, last, lead, mutate, n, n_distinct, ntile,\n",
      "    percent_rank, rename, row_number, sample_frac, select, slice, sql,\n",
      "    summarize, union\n",
      "\n",
      "The following objects are masked from ‘package:stats’:\n",
      "\n",
      "    filter, lag\n",
      "\n",
      "The following objects are masked from ‘package:base’:\n",
      "\n",
      "    intersect, setdiff, setequal, union\n",
      "\n"
     ]
    },
    {
     "data": {
      "text/html": [
       "<table>\n",
       "<thead><tr><th scope=col>Sepal.Length</th><th scope=col>Sepal.Width</th><th scope=col>Petal.Length</th><th scope=col>Petal.Width</th><th scope=col>Species</th></tr></thead>\n",
       "<tbody>\n",
       "\t<tr><td>5.1   </td><td>3.5   </td><td>1.4   </td><td>0.2   </td><td>setosa</td></tr>\n",
       "\t<tr><td>4.9   </td><td>3.0   </td><td>1.4   </td><td>0.2   </td><td>setosa</td></tr>\n",
       "\t<tr><td>4.7   </td><td>3.2   </td><td>1.3   </td><td>0.2   </td><td>setosa</td></tr>\n",
       "\t<tr><td>4.6   </td><td>3.1   </td><td>1.5   </td><td>0.2   </td><td>setosa</td></tr>\n",
       "\t<tr><td>5.0   </td><td>3.6   </td><td>1.4   </td><td>0.2   </td><td>setosa</td></tr>\n",
       "\t<tr><td>5.4   </td><td>3.9   </td><td>1.7   </td><td>0.4   </td><td>setosa</td></tr>\n",
       "</tbody>\n",
       "</table>\n"
      ],
      "text/latex": [
       "\\begin{tabular}{r|lllll}\n",
       " Sepal.Length & Sepal.Width & Petal.Length & Petal.Width & Species\\\\\n",
       "\\hline\n",
       "\t 5.1    & 3.5    & 1.4    & 0.2    & setosa\\\\\n",
       "\t 4.9    & 3.0    & 1.4    & 0.2    & setosa\\\\\n",
       "\t 4.7    & 3.2    & 1.3    & 0.2    & setosa\\\\\n",
       "\t 4.6    & 3.1    & 1.5    & 0.2    & setosa\\\\\n",
       "\t 5.0    & 3.6    & 1.4    & 0.2    & setosa\\\\\n",
       "\t 5.4    & 3.9    & 1.7    & 0.4    & setosa\\\\\n",
       "\\end{tabular}\n"
      ],
      "text/markdown": [
       "\n",
       "Sepal.Length | Sepal.Width | Petal.Length | Petal.Width | Species | \n",
       "|---|---|---|---|---|---|\n",
       "| 5.1    | 3.5    | 1.4    | 0.2    | setosa | \n",
       "| 4.9    | 3.0    | 1.4    | 0.2    | setosa | \n",
       "| 4.7    | 3.2    | 1.3    | 0.2    | setosa | \n",
       "| 4.6    | 3.1    | 1.5    | 0.2    | setosa | \n",
       "| 5.0    | 3.6    | 1.4    | 0.2    | setosa | \n",
       "| 5.4    | 3.9    | 1.7    | 0.4    | setosa | \n",
       "\n",
       "\n"
      ],
      "text/plain": [
       "  Sepal.Length Sepal.Width Petal.Length Petal.Width Species\n",
       "1 5.1          3.5         1.4          0.2         setosa \n",
       "2 4.9          3.0         1.4          0.2         setosa \n",
       "3 4.7          3.2         1.3          0.2         setosa \n",
       "4 4.6          3.1         1.5          0.2         setosa \n",
       "5 5.0          3.6         1.4          0.2         setosa \n",
       "6 5.4          3.9         1.7          0.4         setosa "
      ]
     },
     "metadata": {},
     "output_type": "display_data"
    }
   ],
   "source": [
    "library(dplyr)\n",
    "head(iris)"
   ]
  },
  {
   "cell_type": "markdown",
   "metadata": {},
   "source": [
    "# 4. IMPORTANT - Copy Data to Spark Environment\n",
    "In real applications, your data is usually very big and cannot fit into one hard disk and it is very likely your data is already in Hadoop/Spark ecosystem. You can use SparkDataFrame to analyze your data in Spark system directly. Here, we illustrate how to copy a local dataset to Spark environment and then work on that dataset in the Spark system. As we have already created the Spark Connection sc, it is fairly simple to copy data to spark system by sdf_copy_to() function as below:"
   ]
  },
  {
   "cell_type": "code",
   "execution_count": 6,
   "metadata": {},
   "outputs": [],
   "source": [
    "iris_tbl <- sdf_copy_to(sc = sc, x = iris, overwrite = T)"
   ]
  },
  {
   "cell_type": "markdown",
   "metadata": {},
   "source": [
    "The above one line code copies iris dataset from local node to Spark cluster environment where sc is the Spark Connection we just created; x is the data frame that we want to copy; and overwrite is the option whether we want to overwrite the target object if the same name SparkDataFrame exists in the Spark environment. Finally sdf_copy_to() function will return an R object wrapping the copied SparkDataFrame. So irir_tbl can be used to refer to the iris SparkDataFrame.\n",
    "\n",
    "To check whether the iris dataset was copied to Spark environment successfully or not, we can use src_tbls( ) function to the Spark Connection (sc):"
   ]
  },
  {
   "cell_type": "code",
   "execution_count": 7,
   "metadata": {},
   "outputs": [
    {
     "data": {
      "text/html": [
       "'iris'"
      ],
      "text/latex": [
       "'iris'"
      ],
      "text/markdown": [
       "'iris'"
      ],
      "text/plain": [
       "[1] \"iris\""
      ]
     },
     "metadata": {},
     "output_type": "display_data"
    }
   ],
   "source": [
    "src_tbls(sc)"
   ]
  },
  {
   "cell_type": "markdown",
   "metadata": {},
   "source": [
    "# 5. Analyzing the Data\n",
    "Now we have successfully copied the iris dataset to the Spark environment as a SparkDataFrame. And iris_tbl is an R object wrapping the iris SparkDataFrame and we can use iris_tbl to refer the iris dataset in the Spark system (i.e. the iris SparkDataFrame). With the sparklyr packages, we can use many functions in dplyr to SparkDataFrame directly through iris_tbl, same as we are applying dplyr functions to a local R data frame in our laptop. For example, we can use %>% operator to pass iris_tbl to count( ) function:"
   ]
  },
  {
   "cell_type": "code",
   "execution_count": 8,
   "metadata": {},
   "outputs": [
    {
     "data": {
      "text/plain": [
       "# Source: spark<?> [?? x 1]\n",
       "      n\n",
       "  <dbl>\n",
       "1   150"
      ]
     },
     "metadata": {},
     "output_type": "display_data"
    }
   ],
   "source": [
    "iris_tbl %>% count ## basci count for iris_tbl (i.e. iris SparkDataFrame)"
   ]
  },
  {
   "cell_type": "code",
   "execution_count": 9,
   "metadata": {},
   "outputs": [
    {
     "data": {
      "text/plain": [
       "# Source: spark<?> [?? x 5]\n",
       "  Sepal_Length Sepal_Width Petal_Length Petal_Width Species\n",
       "         <dbl>       <dbl>        <dbl>       <dbl> <chr>  \n",
       "1          5.1         3.5          1.4         0.2 setosa \n",
       "2          4.9         3            1.4         0.2 setosa \n",
       "3          4.7         3.2          1.3         0.2 setosa \n",
       "4          4.6         3.1          1.5         0.2 setosa \n",
       "5          5           3.6          1.4         0.2 setosa \n",
       "6          5.4         3.9          1.7         0.4 setosa "
      ]
     },
     "metadata": {},
     "output_type": "display_data"
    }
   ],
   "source": [
    "head(iris_tbl) ## check the first a few rows of iris_tbl (i.e. iris SparkDataFrame)"
   ]
  },
  {
   "cell_type": "code",
   "execution_count": null,
   "metadata": {},
   "outputs": [],
   "source": []
  },
  {
   "cell_type": "code",
   "execution_count": 10,
   "metadata": {},
   "outputs": [
    {
     "name": "stderr",
     "output_type": "stream",
     "text": [
      "Warning message:\n",
      "“Missing values are always removed in SQL.\n",
      "Use `AVG(x, na.rm = TRUE)` to silence this warning”Warning message:\n",
      "“Missing values are always removed in SQL.\n",
      "Use `AVG(x, na.rm = TRUE)` to silence this warning”Warning message:\n",
      "“Missing values are always removed in SQL.\n",
      "Use `AVG(x, na.rm = TRUE)` to silence this warning”Warning message:\n",
      "“Missing values are always removed in SQL.\n",
      "Use `AVG(x, na.rm = TRUE)` to silence this warning”"
     ]
    },
    {
     "data": {
      "text/plain": [
       "# Source: spark<?> [?? x 5]\n",
       "# Groups: Species\n",
       "   Species    Sepal_Width count Sepal_Length   stdev\n",
       "   <chr>            <dbl> <dbl>        <dbl>   <dbl>\n",
       " 1 setosa             3.5    23         5.07   0.238\n",
       " 2 versicolor         3.5     2         6.15   0.212\n",
       " 3 versicolor         2       3         5.73   0.643\n",
       " 4 versicolor         3      27         6.17   0.468\n",
       " 5 virginica          4       2         7.8    0.141\n",
       " 6 setosa             3      16         4.70   0.228\n",
       " 7 virginica          3.5     6         6.57   0.378\n",
       " 8 virginica          2       1         6    NaN    \n",
       " 9 setosa             4       9         5.37   0.265\n",
       "10 setosa             2.5     1         4.5  NaN    \n",
       "# … with more rows"
      ]
     },
     "metadata": {},
     "output_type": "display_data"
    }
   ],
   "source": [
    "## more advaced manunipulation\n",
    "iris_tbl %>% \n",
    "  mutate(Sepal_Width = ROUND(Sepal_Width * 2) / 2) %>% # Bucketizing Sepal_Width\n",
    "  group_by(Species, Sepal_Width) %>% \n",
    "  summarize(count = n(), Sepal_Length = mean(Sepal_Length), stdev = sd(Sepal_Length)) "
   ]
  },
  {
   "cell_type": "markdown",
   "metadata": {},
   "source": [
    "# 6. Collect Results Back to Master Node\n",
    "Even though we can run many of the dplyr functions on SparkDataFrame, we cannot apply functions from other packages to SparkDataFrame direction (such as ggplot()). For functions that can only work on local R data frames, we must copy the SparkDataFrame back to the local node. To copy SparkDataFrame back to the local node, we use the collect() function where the argument to it is the name of the SparkDataFrame. The following code collect() the results of a few operations and assign the collected data to iris_summary variable:"
   ]
  },
  {
   "cell_type": "code",
   "execution_count": 11,
   "metadata": {},
   "outputs": [
    {
     "name": "stderr",
     "output_type": "stream",
     "text": [
      "Warning message:\n",
      "“Missing values are always removed in SQL.\n",
      "Use `AVG(x, na.rm = TRUE)` to silence this warning”"
     ]
    },
    {
     "data": {
      "text/html": [
       "<table>\n",
       "<thead><tr><th scope=col>Species</th><th scope=col>Sepal_Width</th><th scope=col>count</th><th scope=col>Sepal_Length</th><th scope=col>stdev</th></tr></thead>\n",
       "<tbody>\n",
       "\t<tr><td>setosa    </td><td>3.5       </td><td>23        </td><td>5.069565  </td><td>0.2382413 </td></tr>\n",
       "\t<tr><td>versicolor</td><td>3.5       </td><td> 2        </td><td>6.150000  </td><td>0.2121320 </td></tr>\n",
       "\t<tr><td>versicolor</td><td>2.0       </td><td> 3        </td><td>5.733333  </td><td>0.6429101 </td></tr>\n",
       "\t<tr><td>versicolor</td><td>3.0       </td><td>27        </td><td>6.174074  </td><td>0.4678861 </td></tr>\n",
       "\t<tr><td>virginica </td><td>4.0       </td><td> 2        </td><td>7.800000  </td><td>0.1414214 </td></tr>\n",
       "\t<tr><td>setosa    </td><td>3.0       </td><td>16        </td><td>4.700000  </td><td>0.2280351 </td></tr>\n",
       "\t<tr><td>virginica </td><td>3.5       </td><td> 6        </td><td>6.566667  </td><td>0.3777124 </td></tr>\n",
       "\t<tr><td>virginica </td><td>2.0       </td><td> 1        </td><td>6.000000  </td><td>      NaN </td></tr>\n",
       "\t<tr><td>setosa    </td><td>4.0       </td><td> 9        </td><td>5.366667  </td><td>0.2645751 </td></tr>\n",
       "\t<tr><td>setosa    </td><td>2.5       </td><td> 1        </td><td>4.500000  </td><td>      NaN </td></tr>\n",
       "\t<tr><td>virginica </td><td>2.5       </td><td>10        </td><td>6.170000  </td><td>0.7318925 </td></tr>\n",
       "\t<tr><td>setosa    </td><td>4.5       </td><td> 1        </td><td>5.700000  </td><td>      NaN </td></tr>\n",
       "\t<tr><td>versicolor</td><td>2.5       </td><td>18        </td><td>5.588889  </td><td>0.3894021 </td></tr>\n",
       "\t<tr><td>virginica </td><td>3.0       </td><td>31        </td><td>6.667742  </td><td>0.5485661 </td></tr>\n",
       "</tbody>\n",
       "</table>\n"
      ],
      "text/latex": [
       "\\begin{tabular}{r|lllll}\n",
       " Species & Sepal\\_Width & count & Sepal\\_Length & stdev\\\\\n",
       "\\hline\n",
       "\t setosa     & 3.5        & 23         & 5.069565   & 0.2382413 \\\\\n",
       "\t versicolor & 3.5        &  2         & 6.150000   & 0.2121320 \\\\\n",
       "\t versicolor & 2.0        &  3         & 5.733333   & 0.6429101 \\\\\n",
       "\t versicolor & 3.0        & 27         & 6.174074   & 0.4678861 \\\\\n",
       "\t virginica  & 4.0        &  2         & 7.800000   & 0.1414214 \\\\\n",
       "\t setosa     & 3.0        & 16         & 4.700000   & 0.2280351 \\\\\n",
       "\t virginica  & 3.5        &  6         & 6.566667   & 0.3777124 \\\\\n",
       "\t virginica  & 2.0        &  1         & 6.000000   &       NaN \\\\\n",
       "\t setosa     & 4.0        &  9         & 5.366667   & 0.2645751 \\\\\n",
       "\t setosa     & 2.5        &  1         & 4.500000   &       NaN \\\\\n",
       "\t virginica  & 2.5        & 10         & 6.170000   & 0.7318925 \\\\\n",
       "\t setosa     & 4.5        &  1         & 5.700000   &       NaN \\\\\n",
       "\t versicolor & 2.5        & 18         & 5.588889   & 0.3894021 \\\\\n",
       "\t virginica  & 3.0        & 31         & 6.667742   & 0.5485661 \\\\\n",
       "\\end{tabular}\n"
      ],
      "text/markdown": [
       "\n",
       "Species | Sepal_Width | count | Sepal_Length | stdev | \n",
       "|---|---|---|---|---|---|---|---|---|---|---|---|---|---|\n",
       "| setosa     | 3.5        | 23         | 5.069565   | 0.2382413  | \n",
       "| versicolor | 3.5        |  2         | 6.150000   | 0.2121320  | \n",
       "| versicolor | 2.0        |  3         | 5.733333   | 0.6429101  | \n",
       "| versicolor | 3.0        | 27         | 6.174074   | 0.4678861  | \n",
       "| virginica  | 4.0        |  2         | 7.800000   | 0.1414214  | \n",
       "| setosa     | 3.0        | 16         | 4.700000   | 0.2280351  | \n",
       "| virginica  | 3.5        |  6         | 6.566667   | 0.3777124  | \n",
       "| virginica  | 2.0        |  1         | 6.000000   |       NaN  | \n",
       "| setosa     | 4.0        |  9         | 5.366667   | 0.2645751  | \n",
       "| setosa     | 2.5        |  1         | 4.500000   |       NaN  | \n",
       "| virginica  | 2.5        | 10         | 6.170000   | 0.7318925  | \n",
       "| setosa     | 4.5        |  1         | 5.700000   |       NaN  | \n",
       "| versicolor | 2.5        | 18         | 5.588889   | 0.3894021  | \n",
       "| virginica  | 3.0        | 31         | 6.667742   | 0.5485661  | \n",
       "\n",
       "\n"
      ],
      "text/plain": [
       "   Species    Sepal_Width count Sepal_Length stdev    \n",
       "1  setosa     3.5         23    5.069565     0.2382413\n",
       "2  versicolor 3.5          2    6.150000     0.2121320\n",
       "3  versicolor 2.0          3    5.733333     0.6429101\n",
       "4  versicolor 3.0         27    6.174074     0.4678861\n",
       "5  virginica  4.0          2    7.800000     0.1414214\n",
       "6  setosa     3.0         16    4.700000     0.2280351\n",
       "7  virginica  3.5          6    6.566667     0.3777124\n",
       "8  virginica  2.0          1    6.000000           NaN\n",
       "9  setosa     4.0          9    5.366667     0.2645751\n",
       "10 setosa     2.5          1    4.500000           NaN\n",
       "11 virginica  2.5         10    6.170000     0.7318925\n",
       "12 setosa     4.5          1    5.700000           NaN\n",
       "13 versicolor 2.5         18    5.588889     0.3894021\n",
       "14 virginica  3.0         31    6.667742     0.5485661"
      ]
     },
     "metadata": {},
     "output_type": "display_data"
    }
   ],
   "source": [
    "iris_summary <- iris_tbl %>% \n",
    "  mutate(Sepal_Width = ROUND(Sepal_Width * 2) / 2) %>% # Bucketizing Sepal_Width\n",
    "  group_by(Species, Sepal_Width) %>% \n",
    "  summarize(count = n(), Sepal_Length = mean(Sepal_Length), stdev = sd(Sepal_Length)) %>% collect\n",
    "\n",
    "iris_summary"
   ]
  },
  {
   "cell_type": "code",
   "execution_count": null,
   "metadata": {},
   "outputs": [],
   "source": []
  },
  {
   "cell_type": "code",
   "execution_count": 12,
   "metadata": {},
   "outputs": [
    {
     "name": "stderr",
     "output_type": "stream",
     "text": [
      "\n",
      "Attaching package: ‘ggplot2’\n",
      "\n",
      "The following object is masked from ‘package:SparkR’:\n",
      "\n",
      "    expr\n",
      "\n",
      "Warning message:\n",
      "“Removed 3 rows containing missing values (geom_errorbar).”"
     ]
    },
    {
     "data": {},
     "metadata": {},
     "output_type": "display_data"
    },
    {
     "data": {
      "image/png": "[encoded data removed]",
      "text/plain": [
       "plot without title"
      ]
     },
     "metadata": {},
     "output_type": "display_data"
    }
   ],
   "source": [
    "library(ggplot2)\n",
    "ggplot(iris_summary, aes(Sepal_Width, Sepal_Length, color = Species)) + \n",
    "  geom_line(size = 1.2) +\n",
    "  geom_errorbar(aes(ymin = Sepal_Length - stdev, ymax = Sepal_Length + stdev), width = 0.05) +\n",
    "  geom_text(aes(label = count), vjust = -0.2, hjust = 1.2, color = \"black\") +\n",
    "  theme(legend.position=\"top\")"
   ]
  },
  {
   "cell_type": "markdown",
   "metadata": {},
   "source": [
    "# 7 Fit Regression to SparkDataFrame\n",
    "One of the largest advantage is that, within Spark system, there are already many statistical and machine learning algorithms developed to run parallel across many CPUs with data across many memory units. So, we can easily fit a linear regression for big dataset far beyond the memory limit of one single computer. Below is an illustration of how to fit a linear regression to SparkDataFrame using R notebook:"
   ]
  },
  {
   "cell_type": "code",
   "execution_count": 13,
   "metadata": {},
   "outputs": [
    {
     "name": "stdout",
     "output_type": "stream",
     "text": [
      "Deviance Residuals:\n",
      "     Min       1Q   Median       3Q      Max \n",
      "-0.82816 -0.21989  0.01875  0.19709  0.84570 \n",
      "\n",
      "Coefficients:\n",
      " (Intercept)  Sepal_Width Petal_Length  Petal_Width \n",
      "   1.8559975    0.6508372    0.7091320   -0.5564827 \n",
      "\n",
      "R-Squared: 0.8586\n",
      "Root Mean Squared Error: 0.3103\n"
     ]
    }
   ],
   "source": [
    "## fit a linear regression model in Spark envrioment:\n",
    "fit1 <-  ml_linear_regression(x = iris_tbl, response = \"Sepal_Length\", features = c(\"Sepal_Width\", \"Petal_Length\", \"Petal_Width\"))\n",
    "summary(fit1)"
   ]
  },
  {
   "cell_type": "markdown",
   "metadata": {},
   "source": [
    "# 8. Fit a K-means Model\n",
    "Through sparkly package, we can use R notebook to access many Spark Machine Learning Library (MLlib) algorithms such as linear regression, logistic regression, Survival Regression, Generalized Linear Regression, Decision Trees, Random Forests, Gradient-Boosted Trees, Principal Components Analysis, Naive-Bayes, K-Means Clustering and a few other methods. Below codes fit a k-means cluster algorithm:"
   ]
  },
  {
   "cell_type": "code",
   "execution_count": 14,
   "metadata": {},
   "outputs": [
    {
     "name": "stderr",
     "output_type": "stream",
     "text": [
      "Warning message:\n",
      "“The parameter `centers` is deprecated and will be removed in a future release. Please use `k` instead.”"
     ]
    },
    {
     "name": "stdout",
     "output_type": "stream",
     "text": [
      "K-means clustering with 3 clusters\n",
      "\n",
      "Cluster centers:\n",
      "  Petal_Length Petal_Width\n",
      "1     4.292593    1.359259\n",
      "2     1.462000    0.246000\n",
      "3     5.626087    2.047826\n",
      "\n",
      "Within Set Sum of Squared Errors =  31.41289"
     ]
    }
   ],
   "source": [
    "## Now fit a k-mean clustering using iris_tbl data \n",
    "## with only two out of four features in iris_tbl\n",
    "fit2 <- ml_kmeans(x = iris_tbl, centers = 3, features = c(\"Petal_Length\", \"Petal_Width\"))\n",
    "\n",
    "# print our model fit\n",
    "print(fit2)\n"
   ]
  },
  {
   "cell_type": "code",
   "execution_count": null,
   "metadata": {},
   "outputs": [],
   "source": []
  },
  {
   "cell_type": "code",
   "execution_count": 15,
   "metadata": {},
   "outputs": [
    {
     "name": "stderr",
     "output_type": "stream",
     "text": [
      "Warning message in sdf_predict.ml_model(fit2, iris_tbl):\n",
      "“The signature sdf_predict(model, dataset) is deprecated and will be removed in a future version. Use sdf_predict(dataset, model) or ml_predict(model, dataset) instead.”"
     ]
    },
    {
     "data": {
      "text/html": [
       "<table>\n",
       "<thead><tr><th scope=col>Sepal_Length</th><th scope=col>Sepal_Width</th><th scope=col>Petal_Length</th><th scope=col>Petal_Width</th><th scope=col>Species</th><th scope=col>features</th><th scope=col>prediction</th></tr></thead>\n",
       "<tbody>\n",
       "\t<tr><td>5.1     </td><td>3.5     </td><td>1.4     </td><td>0.2     </td><td>setosa  </td><td>1.4, 0.2</td><td>1       </td></tr>\n",
       "\t<tr><td>4.9     </td><td>3.0     </td><td>1.4     </td><td>0.2     </td><td>setosa  </td><td>1.4, 0.2</td><td>1       </td></tr>\n",
       "\t<tr><td>4.7     </td><td>3.2     </td><td>1.3     </td><td>0.2     </td><td>setosa  </td><td>1.3, 0.2</td><td>1       </td></tr>\n",
       "\t<tr><td>4.6     </td><td>3.1     </td><td>1.5     </td><td>0.2     </td><td>setosa  </td><td>1.5, 0.2</td><td>1       </td></tr>\n",
       "\t<tr><td>5.0     </td><td>3.6     </td><td>1.4     </td><td>0.2     </td><td>setosa  </td><td>1.4, 0.2</td><td>1       </td></tr>\n",
       "\t<tr><td>5.4     </td><td>3.9     </td><td>1.7     </td><td>0.4     </td><td>setosa  </td><td>1.7, 0.4</td><td>1       </td></tr>\n",
       "</tbody>\n",
       "</table>\n"
      ],
      "text/latex": [
       "\\begin{tabular}{r|lllllll}\n",
       " Sepal\\_Length & Sepal\\_Width & Petal\\_Length & Petal\\_Width & Species & features & prediction\\\\\n",
       "\\hline\n",
       "\t 5.1      & 3.5      & 1.4      & 0.2      & setosa   & 1.4, 0.2 & 1       \\\\\n",
       "\t 4.9      & 3.0      & 1.4      & 0.2      & setosa   & 1.4, 0.2 & 1       \\\\\n",
       "\t 4.7      & 3.2      & 1.3      & 0.2      & setosa   & 1.3, 0.2 & 1       \\\\\n",
       "\t 4.6      & 3.1      & 1.5      & 0.2      & setosa   & 1.5, 0.2 & 1       \\\\\n",
       "\t 5.0      & 3.6      & 1.4      & 0.2      & setosa   & 1.4, 0.2 & 1       \\\\\n",
       "\t 5.4      & 3.9      & 1.7      & 0.4      & setosa   & 1.7, 0.4 & 1       \\\\\n",
       "\\end{tabular}\n"
      ],
      "text/markdown": [
       "\n",
       "Sepal_Length | Sepal_Width | Petal_Length | Petal_Width | Species | features | prediction | \n",
       "|---|---|---|---|---|---|\n",
       "| 5.1      | 3.5      | 1.4      | 0.2      | setosa   | 1.4, 0.2 | 1        | \n",
       "| 4.9      | 3.0      | 1.4      | 0.2      | setosa   | 1.4, 0.2 | 1        | \n",
       "| 4.7      | 3.2      | 1.3      | 0.2      | setosa   | 1.3, 0.2 | 1        | \n",
       "| 4.6      | 3.1      | 1.5      | 0.2      | setosa   | 1.5, 0.2 | 1        | \n",
       "| 5.0      | 3.6      | 1.4      | 0.2      | setosa   | 1.4, 0.2 | 1        | \n",
       "| 5.4      | 3.9      | 1.7      | 0.4      | setosa   | 1.7, 0.4 | 1        | \n",
       "\n",
       "\n"
      ],
      "text/plain": [
       "  Sepal_Length Sepal_Width Petal_Length Petal_Width Species features prediction\n",
       "1 5.1          3.5         1.4          0.2         setosa  1.4, 0.2 1         \n",
       "2 4.9          3.0         1.4          0.2         setosa  1.4, 0.2 1         \n",
       "3 4.7          3.2         1.3          0.2         setosa  1.3, 0.2 1         \n",
       "4 4.6          3.1         1.5          0.2         setosa  1.5, 0.2 1         \n",
       "5 5.0          3.6         1.4          0.2         setosa  1.4, 0.2 1         \n",
       "6 5.4          3.9         1.7          0.4         setosa  1.7, 0.4 1         "
      ]
     },
     "metadata": {},
     "output_type": "display_data"
    }
   ],
   "source": [
    "prediction = collect(sdf_predict(fit2, iris_tbl)) ## here the collect function bring data from cluster to master or local node\n",
    "head(prediction)"
   ]
  },
  {
   "cell_type": "code",
   "execution_count": null,
   "metadata": {},
   "outputs": [],
   "source": []
  },
  {
   "cell_type": "code",
   "execution_count": 16,
   "metadata": {},
   "outputs": [
    {
     "data": {},
     "metadata": {},
     "output_type": "display_data"
    },
    {
     "data": {
      "image/png": "[encoded data removed]",
      "text/plain": [
       "plot without title"
      ]
     },
     "metadata": {},
     "output_type": "display_data"
    }
   ],
   "source": [
    "prediction  %>%\n",
    "  ggplot(aes(Petal_Length, Petal_Width)) +\n",
    "  geom_point(aes(Petal_Width, Petal_Length, col = factor(prediction + 1)),\n",
    "             size = 2, alpha = 0.5) + \n",
    "  geom_point(data = fit2$centers, aes(Petal_Width, Petal_Length),\n",
    "             col = scales::muted(c(\"red\", \"green\", \"blue\")),\n",
    "             pch = 'x', size = 12) +\n",
    "  scale_color_discrete(name = \"Predicted Cluster\",\n",
    "                       labels = paste(\"Cluster\", 1:3)) +\n",
    "  labs(\n",
    "    x = \"Petal Width\",\n",
    "    y = \"Petal Length\",\n",
    "    title = \"K-Means Clustering\",\n",
    "    subtitle = \"Use Spark.ML to predict cluster membership with the iris dataset.\"\n",
    "  )"
   ]
  },
  {
   "cell_type": "code",
   "execution_count": null,
   "metadata": {},
   "outputs": [],
   "source": []
  },
  {
   "cell_type": "code",
   "execution_count": null,
   "metadata": {},
   "outputs": [],
   "source": []
  }
 ],
 "metadata": {
  "kernelspec": {
   "display_name": "R",
   "language": "R",
   "name": "ir"
  },
  "language_info": {
   "codemirror_mode": "r",
   "file_extension": ".r",
   "mimetype": "text/x-r-source",
   "name": "R",
   "pygments_lexer": "r",
   "version": "3.5.2"
  }
 },
 "nbformat": 4,
 "nbformat_minor": 2
}

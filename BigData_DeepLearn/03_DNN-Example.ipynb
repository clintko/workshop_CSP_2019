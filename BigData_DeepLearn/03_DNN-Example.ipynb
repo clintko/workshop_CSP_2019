{
 "cells": [
  {
   "cell_type": "markdown",
   "metadata": {},
   "source": [
    "# Deep Learning Using R with keras"
   ]
  },
  {
   "cell_type": "markdown",
   "metadata": {},
   "source": [
    "n this notebook, we will walk through how to use the keras R package for a toy example in deep learning with the hand written digits image dataset (i.e. MNIST). The purpose of the notebook is to have hands-on experience and get familar with the deep learning overview part of the training course. Please check the keras R package website for most recent development: https://keras.rstudio.com/\n",
    "\n",
    "We are using databrick community edition with R as the interface for this deep learning training for audience with statistics background with the following consideration:\n",
    "\n",
    "- Minimum language barrier in coding for most statisticians\n",
    "- Zero setup to save time using cloud envriment\n",
    "- Get familar with current trend of cloud computing in coorprate setup"
   ]
  },
  {
   "cell_type": "markdown",
   "metadata": {},
   "source": [
    "# 1 Packages Download and Installation\n",
    "In this example notebook, the keras R package is needed. As it has a many dependent packages to be download and install, it takes a few minutes to finish. Be patient! In a production cloud enviroment such as the paid version of Databricks, you can save what you have and resume from where you left. But in this free community edition of Databrics, we have to download and install needed packages everytime a new cluster is created or after every log in."
   ]
  },
  {
   "cell_type": "markdown",
   "metadata": {},
   "source": [
    "## 1.1 Download keras\n",
    "The keras package is published to CRAN at 2018-04-29 and we can get it through CRAN by calling install.packages(\"keras\"). As it is still in fast development stage, we can also get it directly from github for most recently update that might not be pushed to CRAN yet. Again, be patient, the following cell may take a few minutes to finish installing all dependencies."
   ]
  },
  {
   "cell_type": "markdown",
   "metadata": {},
   "source": [
    "```\n",
    "install.package(\"keras\")\n",
    "```"
   ]
  },
  {
   "cell_type": "markdown",
   "metadata": {},
   "source": [
    "## 1.2 Load keras package and the requried tensorflow backend\n",
    "As keras is just an interface to popular deep learning frameworks, we have to install a specfic deep learning backend. The default and recommended backend is TensorFlow. By calling install_keras(), it will install all the needed dependencies for TensorFlow. The following cell takes around one minute to run."
   ]
  },
  {
   "cell_type": "code",
   "execution_count": 2,
   "metadata": {},
   "outputs": [
    {
     "name": "stdout",
     "output_type": "stream",
     "text": [
      "Creating virtualenv for TensorFlow at  ~/.virtualenvs/r-tensorflow \n",
      "Installing TensorFlow ...\n",
      "\n",
      "Installation complete.\n",
      "\n"
     ]
    }
   ],
   "source": [
    "library(keras)\n",
    "install_keras()"
   ]
  },
  {
   "cell_type": "markdown",
   "metadata": {},
   "source": [
    "Now we are all set to explore deep learning! As simple as three lines of R code, but there are quite a lot going on behind the scene. One of the advantage of cloud enviroment is that we do not need to worry about these behind scene setup and maintenance."
   ]
  },
  {
   "cell_type": "markdown",
   "metadata": {},
   "source": [
    "# 2 Overview for MNIST Dataset\n",
    "In deep learning, one of the first sucessfuly application that is better than traditonal machine learning areas is image recognition. We will use the widely used MNIST handwritten digit image dataset for this tutorial. More information about the dataset and benchmark results from various machine learning methods can be found at: http://yann.lecun.com/exdb/mnist/ and https://en.wikipedia.org/wiki/MNIST_database"
   ]
  },
  {
   "cell_type": "markdown",
   "metadata": {},
   "source": [
    "## 2.1 Load MNIST dataset\n",
    "This dataset is already included in the keras/tensorflow installation and we can simply load the dataset as described in the following cell. It takes less than a minute to load the dataset."
   ]
  },
  {
   "cell_type": "code",
   "execution_count": 3,
   "metadata": {},
   "outputs": [],
   "source": [
    "mnist <- dataset_mnist()"
   ]
  },
  {
   "cell_type": "markdown",
   "metadata": {},
   "source": [
    "## 2.2 Training and testing datasets\n",
    "The data structure of the MNIST dataset is straight forward and well prepared for R, which has two pieces: (1) training set: x (i.e. features): 60000x28x28 tensor which corresponds to 60000 28x28 pixel images with grey scale representation (i.e. all the values are integer between 0 and 255 in each 28x28 matrix), and y (i.e. responses): a length 60000 vector which contains the corresponding digits with integer values between 0 and 9. (2) testing set: same as the training set, but with only 10000 images and responses. Detailed structure for the dataset can be seen with str(mnist) below."
   ]
  },
  {
   "cell_type": "code",
   "execution_count": 4,
   "metadata": {},
   "outputs": [
    {
     "name": "stdout",
     "output_type": "stream",
     "text": [
      "List of 2\n",
      " $ train:List of 2\n",
      "  ..$ x: int [1:60000, 1:28, 1:28] 0 0 0 0 0 0 0 0 0 0 ...\n",
      "  ..$ y: int [1:60000(1d)] 5 0 4 1 9 2 1 3 1 4 ...\n",
      " $ test :List of 2\n",
      "  ..$ x: int [1:10000, 1:28, 1:28] 0 0 0 0 0 0 0 0 0 0 ...\n",
      "  ..$ y: int [1:10000(1d)] 7 2 1 0 4 1 4 9 5 9 ...\n"
     ]
    }
   ],
   "source": [
    "str(mnist)"
   ]
  },
  {
   "cell_type": "markdown",
   "metadata": {},
   "source": [
    "Now we prepare the features (x) and response variable (y) for both the training and testing dataset, and we can check the structure of the x_train and y_train using str() function."
   ]
  },
  {
   "cell_type": "code",
   "execution_count": 5,
   "metadata": {},
   "outputs": [
    {
     "name": "stdout",
     "output_type": "stream",
     "text": [
      " int [1:60000, 1:28, 1:28] 0 0 0 0 0 0 0 0 0 0 ...\n",
      " int [1:60000(1d)] 5 0 4 1 9 2 1 3 1 4 ...\n"
     ]
    }
   ],
   "source": [
    "x_train <- mnist$train$x\n",
    "y_train <- mnist$train$y\n",
    "x_test <- mnist$test$x\n",
    "y_test <- mnist$test$y\n",
    "\n",
    "str(x_train)\n",
    "str(y_train)"
   ]
  },
  {
   "cell_type": "markdown",
   "metadata": {},
   "source": [
    "## 2.3 Plot an image\n",
    "Now let's plot a chosen 28x28 matrix as an images using R's image() function. In R's image() function, the way of showing an image is rotated 90 degree from the matrix representation. So there is additonal steps to rearrange the matrix such that we can use image() function to show it in the actual orientation."
   ]
  },
  {
   "cell_type": "code",
   "execution_count": 6,
   "metadata": {},
   "outputs": [
    {
     "data": {
      "image/png": "[encoded data removed]",
      "text/plain": [
       "plot without title"
      ]
     },
     "metadata": {},
     "output_type": "display_data"
    }
   ],
   "source": [
    "index_image = 28 ## change this index to see different image.\n",
    "input_matrix <- x_train[index_image,1:28,1:28]\n",
    "output_matrix <- apply(input_matrix, 2, rev)\n",
    "output_matrix <- t(output_matrix)\n",
    "image(1:28, 1:28, output_matrix, col=gray.colors(256), xlab=paste('Image for digit of: ', y_train[index_image]), ylab=\"\")"
   ]
  },
  {
   "cell_type": "markdown",
   "metadata": {},
   "source": [
    "Here is the original 28x28 matrix for the above image:"
   ]
  },
  {
   "cell_type": "code",
   "execution_count": 7,
   "metadata": {},
   "outputs": [
    {
     "data": {
      "text/html": [
       "<table>\n",
       "<tbody>\n",
       "\t<tr><td>0  </td><td>0  </td><td>0  </td><td>0  </td><td> 0 </td><td>  0</td><td>  0</td><td>  0</td><td>  0</td><td>  0</td><td>⋯  </td><td>  0</td><td>  0</td><td>  0</td><td>  0</td><td>  0</td><td> 0 </td><td>0  </td><td>0  </td><td>0  </td><td>0  </td></tr>\n",
       "\t<tr><td>0  </td><td>0  </td><td>0  </td><td>0  </td><td> 0 </td><td>  0</td><td>  0</td><td>  0</td><td>  0</td><td>  0</td><td>⋯  </td><td>  0</td><td>  0</td><td>  0</td><td>  0</td><td>  0</td><td> 0 </td><td>0  </td><td>0  </td><td>0  </td><td>0  </td></tr>\n",
       "\t<tr><td>0  </td><td>0  </td><td>0  </td><td>0  </td><td> 0 </td><td>  0</td><td>  0</td><td>  0</td><td>  0</td><td>  0</td><td>⋯  </td><td>  0</td><td>  0</td><td>  0</td><td>  0</td><td>  0</td><td> 0 </td><td>0  </td><td>0  </td><td>0  </td><td>0  </td></tr>\n",
       "\t<tr><td>0  </td><td>0  </td><td>0  </td><td>0  </td><td> 0 </td><td>  0</td><td>  0</td><td>  0</td><td>  0</td><td>  0</td><td>⋯  </td><td>  0</td><td>  0</td><td>  0</td><td>  0</td><td>  0</td><td> 0 </td><td>0  </td><td>0  </td><td>0  </td><td>0  </td></tr>\n",
       "\t<tr><td>0  </td><td>0  </td><td>0  </td><td>0  </td><td> 0 </td><td>  0</td><td>  0</td><td>  0</td><td>  0</td><td>  0</td><td>⋯  </td><td>  0</td><td>  0</td><td>  0</td><td>  0</td><td>  0</td><td> 0 </td><td>0  </td><td>0  </td><td>0  </td><td>0  </td></tr>\n",
       "\t<tr><td>0  </td><td>0  </td><td>0  </td><td>0  </td><td> 0 </td><td>  0</td><td>  0</td><td>  0</td><td>  0</td><td>  0</td><td>⋯  </td><td> 80</td><td> 80</td><td> 44</td><td>  0</td><td>  0</td><td> 0 </td><td>0  </td><td>0  </td><td>0  </td><td>0  </td></tr>\n",
       "\t<tr><td>0  </td><td>0  </td><td>0  </td><td>0  </td><td> 0 </td><td>  0</td><td> 39</td><td>158</td><td>158</td><td>158</td><td>⋯  </td><td>253</td><td>253</td><td>210</td><td> 38</td><td>  0</td><td> 0 </td><td>0  </td><td>0  </td><td>0  </td><td>0  </td></tr>\n",
       "\t<tr><td>0  </td><td>0  </td><td>0  </td><td>0  </td><td> 0 </td><td>  0</td><td>226</td><td>253</td><td>253</td><td>253</td><td>⋯  </td><td>253</td><td>253</td><td>253</td><td>241</td><td>146</td><td> 0 </td><td>0  </td><td>0  </td><td>0  </td><td>0  </td></tr>\n",
       "\t<tr><td>0  </td><td>0  </td><td>0  </td><td>0  </td><td> 0 </td><td>  0</td><td>139</td><td>253</td><td>253</td><td>253</td><td>⋯  </td><td>253</td><td>253</td><td>253</td><td>253</td><td>210</td><td>43 </td><td>0  </td><td>0  </td><td>0  </td><td>0  </td></tr>\n",
       "\t<tr><td>0  </td><td>0  </td><td>0  </td><td>0  </td><td> 0 </td><td>  0</td><td> 39</td><td> 34</td><td> 34</td><td> 34</td><td>⋯  </td><td>253</td><td>253</td><td>253</td><td>253</td><td>236</td><td>64 </td><td>0  </td><td>0  </td><td>0  </td><td>0  </td></tr>\n",
       "\t<tr><td>0  </td><td>0  </td><td>0  </td><td>0  </td><td> 0 </td><td>  0</td><td> 91</td><td>  0</td><td>  0</td><td>  0</td><td>⋯  </td><td>253</td><td>253</td><td>253</td><td>244</td><td> 81</td><td> 0 </td><td>0  </td><td>0  </td><td>0  </td><td>0  </td></tr>\n",
       "\t<tr><td>0  </td><td>0  </td><td>0  </td><td>0  </td><td> 0 </td><td>  0</td><td>  0</td><td>  0</td><td>  0</td><td>  0</td><td>⋯  </td><td>253</td><td>253</td><td>241</td><td> 89</td><td>  0</td><td> 0 </td><td>0  </td><td>0  </td><td>0  </td><td>0  </td></tr>\n",
       "\t<tr><td>0  </td><td>0  </td><td>0  </td><td>0  </td><td> 0 </td><td>  0</td><td>  0</td><td>  0</td><td>  0</td><td>  0</td><td>⋯  </td><td>253</td><td>238</td><td> 82</td><td>  0</td><td>  0</td><td> 0 </td><td>0  </td><td>0  </td><td>0  </td><td>0  </td></tr>\n",
       "\t<tr><td>0  </td><td>0  </td><td>0  </td><td>0  </td><td> 0 </td><td>  0</td><td>  0</td><td>  0</td><td>  0</td><td>  0</td><td>⋯  </td><td>253</td><td> 96</td><td>  0</td><td>  0</td><td>  0</td><td> 0 </td><td>0  </td><td>0  </td><td>0  </td><td>0  </td></tr>\n",
       "\t<tr><td>0  </td><td>0  </td><td>0  </td><td>0  </td><td> 0 </td><td>  0</td><td>  0</td><td>  0</td><td>  0</td><td>  0</td><td>⋯  </td><td>253</td><td>230</td><td> 49</td><td>  0</td><td>  0</td><td> 0 </td><td>0  </td><td>0  </td><td>0  </td><td>0  </td></tr>\n",
       "\t<tr><td>0  </td><td>0  </td><td>0  </td><td>0  </td><td> 0 </td><td>  0</td><td>  0</td><td>  0</td><td>  0</td><td>  0</td><td>⋯  </td><td>253</td><td>253</td><td>138</td><td>  0</td><td>  0</td><td> 0 </td><td>0  </td><td>0  </td><td>0  </td><td>0  </td></tr>\n",
       "\t<tr><td>0  </td><td>0  </td><td>0  </td><td>0  </td><td> 0 </td><td>  0</td><td>  0</td><td>  0</td><td>  0</td><td>  0</td><td>⋯  </td><td>253</td><td>253</td><td>250</td><td> 59</td><td>  0</td><td> 0 </td><td>0  </td><td>0  </td><td>0  </td><td>0  </td></tr>\n",
       "\t<tr><td>0  </td><td>0  </td><td>0  </td><td>0  </td><td> 0 </td><td>  0</td><td>  0</td><td>  0</td><td>  0</td><td>  0</td><td>⋯  </td><td>253</td><td>253</td><td>253</td><td> 60</td><td>  0</td><td> 0 </td><td>0  </td><td>0  </td><td>0  </td><td>0  </td></tr>\n",
       "\t<tr><td>0  </td><td>0  </td><td>0  </td><td>0  </td><td> 0 </td><td>  0</td><td>  0</td><td>  0</td><td>  0</td><td>  0</td><td>⋯  </td><td>253</td><td>253</td><td>150</td><td>  6</td><td>  0</td><td> 0 </td><td>0  </td><td>0  </td><td>0  </td><td>0  </td></tr>\n",
       "\t<tr><td>0  </td><td>0  </td><td>0  </td><td>0  </td><td> 0 </td><td>  0</td><td>  0</td><td>  0</td><td>  0</td><td>  0</td><td>⋯  </td><td>253</td><td>253</td><td>138</td><td>  0</td><td>  0</td><td> 0 </td><td>0  </td><td>0  </td><td>0  </td><td>0  </td></tr>\n",
       "\t<tr><td>0  </td><td>0  </td><td>0  </td><td>0  </td><td>66 </td><td>211</td><td>211</td><td>211</td><td> 59</td><td> 36</td><td>⋯  </td><td>253</td><td>253</td><td>138</td><td>  0</td><td>  0</td><td> 0 </td><td>0  </td><td>0  </td><td>0  </td><td>0  </td></tr>\n",
       "\t<tr><td>0  </td><td>0  </td><td>0  </td><td>0  </td><td>80 </td><td>253</td><td>253</td><td>253</td><td>253</td><td>253</td><td>⋯  </td><td>253</td><td>157</td><td> 77</td><td>  0</td><td>  0</td><td> 0 </td><td>0  </td><td>0  </td><td>0  </td><td>0  </td></tr>\n",
       "\t<tr><td>0  </td><td>0  </td><td>0  </td><td>0  </td><td>80 </td><td>253</td><td>253</td><td>253</td><td>253</td><td>253</td><td>⋯  </td><td>235</td><td> 40</td><td>  0</td><td>  0</td><td>  0</td><td> 0 </td><td>0  </td><td>0  </td><td>0  </td><td>0  </td></tr>\n",
       "\t<tr><td>0  </td><td>0  </td><td>0  </td><td>0  </td><td>49 </td><td>156</td><td>247</td><td>253</td><td>253</td><td>253</td><td>⋯  </td><td>  0</td><td>  0</td><td>  0</td><td>  0</td><td>  0</td><td> 0 </td><td>0  </td><td>0  </td><td>0  </td><td>0  </td></tr>\n",
       "\t<tr><td>0  </td><td>0  </td><td>0  </td><td>0  </td><td> 0 </td><td>  0</td><td>116</td><td>253</td><td>253</td><td>253</td><td>⋯  </td><td>  0</td><td>  0</td><td>  0</td><td>  0</td><td>  0</td><td> 0 </td><td>0  </td><td>0  </td><td>0  </td><td>0  </td></tr>\n",
       "\t<tr><td>0  </td><td>0  </td><td>0  </td><td>0  </td><td> 0 </td><td>  0</td><td>  0</td><td>  0</td><td>  0</td><td>  0</td><td>⋯  </td><td>  0</td><td>  0</td><td>  0</td><td>  0</td><td>  0</td><td> 0 </td><td>0  </td><td>0  </td><td>0  </td><td>0  </td></tr>\n",
       "\t<tr><td>0  </td><td>0  </td><td>0  </td><td>0  </td><td> 0 </td><td>  0</td><td>  0</td><td>  0</td><td>  0</td><td>  0</td><td>⋯  </td><td>  0</td><td>  0</td><td>  0</td><td>  0</td><td>  0</td><td> 0 </td><td>0  </td><td>0  </td><td>0  </td><td>0  </td></tr>\n",
       "\t<tr><td>0  </td><td>0  </td><td>0  </td><td>0  </td><td> 0 </td><td>  0</td><td>  0</td><td>  0</td><td>  0</td><td>  0</td><td>⋯  </td><td>  0</td><td>  0</td><td>  0</td><td>  0</td><td>  0</td><td> 0 </td><td>0  </td><td>0  </td><td>0  </td><td>0  </td></tr>\n",
       "</tbody>\n",
       "</table>\n"
      ],
      "text/latex": [
       "\\begin{tabular}{llllllllllllllllllllllllllll}\n",
       "\t 0   & 0   & 0   & 0   &  0  &   0 &   0 &   0 &   0 &   0 & ⋯   &   0 &   0 &   0 &   0 &   0 &  0  & 0   & 0   & 0   & 0  \\\\\n",
       "\t 0   & 0   & 0   & 0   &  0  &   0 &   0 &   0 &   0 &   0 & ⋯   &   0 &   0 &   0 &   0 &   0 &  0  & 0   & 0   & 0   & 0  \\\\\n",
       "\t 0   & 0   & 0   & 0   &  0  &   0 &   0 &   0 &   0 &   0 & ⋯   &   0 &   0 &   0 &   0 &   0 &  0  & 0   & 0   & 0   & 0  \\\\\n",
       "\t 0   & 0   & 0   & 0   &  0  &   0 &   0 &   0 &   0 &   0 & ⋯   &   0 &   0 &   0 &   0 &   0 &  0  & 0   & 0   & 0   & 0  \\\\\n",
       "\t 0   & 0   & 0   & 0   &  0  &   0 &   0 &   0 &   0 &   0 & ⋯   &   0 &   0 &   0 &   0 &   0 &  0  & 0   & 0   & 0   & 0  \\\\\n",
       "\t 0   & 0   & 0   & 0   &  0  &   0 &   0 &   0 &   0 &   0 & ⋯   &  80 &  80 &  44 &   0 &   0 &  0  & 0   & 0   & 0   & 0  \\\\\n",
       "\t 0   & 0   & 0   & 0   &  0  &   0 &  39 & 158 & 158 & 158 & ⋯   & 253 & 253 & 210 &  38 &   0 &  0  & 0   & 0   & 0   & 0  \\\\\n",
       "\t 0   & 0   & 0   & 0   &  0  &   0 & 226 & 253 & 253 & 253 & ⋯   & 253 & 253 & 253 & 241 & 146 &  0  & 0   & 0   & 0   & 0  \\\\\n",
       "\t 0   & 0   & 0   & 0   &  0  &   0 & 139 & 253 & 253 & 253 & ⋯   & 253 & 253 & 253 & 253 & 210 & 43  & 0   & 0   & 0   & 0  \\\\\n",
       "\t 0   & 0   & 0   & 0   &  0  &   0 &  39 &  34 &  34 &  34 & ⋯   & 253 & 253 & 253 & 253 & 236 & 64  & 0   & 0   & 0   & 0  \\\\\n",
       "\t 0   & 0   & 0   & 0   &  0  &   0 &  91 &   0 &   0 &   0 & ⋯   & 253 & 253 & 253 & 244 &  81 &  0  & 0   & 0   & 0   & 0  \\\\\n",
       "\t 0   & 0   & 0   & 0   &  0  &   0 &   0 &   0 &   0 &   0 & ⋯   & 253 & 253 & 241 &  89 &   0 &  0  & 0   & 0   & 0   & 0  \\\\\n",
       "\t 0   & 0   & 0   & 0   &  0  &   0 &   0 &   0 &   0 &   0 & ⋯   & 253 & 238 &  82 &   0 &   0 &  0  & 0   & 0   & 0   & 0  \\\\\n",
       "\t 0   & 0   & 0   & 0   &  0  &   0 &   0 &   0 &   0 &   0 & ⋯   & 253 &  96 &   0 &   0 &   0 &  0  & 0   & 0   & 0   & 0  \\\\\n",
       "\t 0   & 0   & 0   & 0   &  0  &   0 &   0 &   0 &   0 &   0 & ⋯   & 253 & 230 &  49 &   0 &   0 &  0  & 0   & 0   & 0   & 0  \\\\\n",
       "\t 0   & 0   & 0   & 0   &  0  &   0 &   0 &   0 &   0 &   0 & ⋯   & 253 & 253 & 138 &   0 &   0 &  0  & 0   & 0   & 0   & 0  \\\\\n",
       "\t 0   & 0   & 0   & 0   &  0  &   0 &   0 &   0 &   0 &   0 & ⋯   & 253 & 253 & 250 &  59 &   0 &  0  & 0   & 0   & 0   & 0  \\\\\n",
       "\t 0   & 0   & 0   & 0   &  0  &   0 &   0 &   0 &   0 &   0 & ⋯   & 253 & 253 & 253 &  60 &   0 &  0  & 0   & 0   & 0   & 0  \\\\\n",
       "\t 0   & 0   & 0   & 0   &  0  &   0 &   0 &   0 &   0 &   0 & ⋯   & 253 & 253 & 150 &   6 &   0 &  0  & 0   & 0   & 0   & 0  \\\\\n",
       "\t 0   & 0   & 0   & 0   &  0  &   0 &   0 &   0 &   0 &   0 & ⋯   & 253 & 253 & 138 &   0 &   0 &  0  & 0   & 0   & 0   & 0  \\\\\n",
       "\t 0   & 0   & 0   & 0   & 66  & 211 & 211 & 211 &  59 &  36 & ⋯   & 253 & 253 & 138 &   0 &   0 &  0  & 0   & 0   & 0   & 0  \\\\\n",
       "\t 0   & 0   & 0   & 0   & 80  & 253 & 253 & 253 & 253 & 253 & ⋯   & 253 & 157 &  77 &   0 &   0 &  0  & 0   & 0   & 0   & 0  \\\\\n",
       "\t 0   & 0   & 0   & 0   & 80  & 253 & 253 & 253 & 253 & 253 & ⋯   & 235 &  40 &   0 &   0 &   0 &  0  & 0   & 0   & 0   & 0  \\\\\n",
       "\t 0   & 0   & 0   & 0   & 49  & 156 & 247 & 253 & 253 & 253 & ⋯   &   0 &   0 &   0 &   0 &   0 &  0  & 0   & 0   & 0   & 0  \\\\\n",
       "\t 0   & 0   & 0   & 0   &  0  &   0 & 116 & 253 & 253 & 253 & ⋯   &   0 &   0 &   0 &   0 &   0 &  0  & 0   & 0   & 0   & 0  \\\\\n",
       "\t 0   & 0   & 0   & 0   &  0  &   0 &   0 &   0 &   0 &   0 & ⋯   &   0 &   0 &   0 &   0 &   0 &  0  & 0   & 0   & 0   & 0  \\\\\n",
       "\t 0   & 0   & 0   & 0   &  0  &   0 &   0 &   0 &   0 &   0 & ⋯   &   0 &   0 &   0 &   0 &   0 &  0  & 0   & 0   & 0   & 0  \\\\\n",
       "\t 0   & 0   & 0   & 0   &  0  &   0 &   0 &   0 &   0 &   0 & ⋯   &   0 &   0 &   0 &   0 &   0 &  0  & 0   & 0   & 0   & 0  \\\\\n",
       "\\end{tabular}\n"
      ],
      "text/markdown": [
       "\n",
       "| 0   | 0   | 0   | 0   |  0  |   0 |   0 |   0 |   0 |   0 | ⋯   |   0 |   0 |   0 |   0 |   0 |  0  | 0   | 0   | 0   | 0   | \n",
       "| 0   | 0   | 0   | 0   |  0  |   0 |   0 |   0 |   0 |   0 | ⋯   |   0 |   0 |   0 |   0 |   0 |  0  | 0   | 0   | 0   | 0   | \n",
       "| 0   | 0   | 0   | 0   |  0  |   0 |   0 |   0 |   0 |   0 | ⋯   |   0 |   0 |   0 |   0 |   0 |  0  | 0   | 0   | 0   | 0   | \n",
       "| 0   | 0   | 0   | 0   |  0  |   0 |   0 |   0 |   0 |   0 | ⋯   |   0 |   0 |   0 |   0 |   0 |  0  | 0   | 0   | 0   | 0   | \n",
       "| 0   | 0   | 0   | 0   |  0  |   0 |   0 |   0 |   0 |   0 | ⋯   |   0 |   0 |   0 |   0 |   0 |  0  | 0   | 0   | 0   | 0   | \n",
       "| 0   | 0   | 0   | 0   |  0  |   0 |   0 |   0 |   0 |   0 | ⋯   |  80 |  80 |  44 |   0 |   0 |  0  | 0   | 0   | 0   | 0   | \n",
       "| 0   | 0   | 0   | 0   |  0  |   0 |  39 | 158 | 158 | 158 | ⋯   | 253 | 253 | 210 |  38 |   0 |  0  | 0   | 0   | 0   | 0   | \n",
       "| 0   | 0   | 0   | 0   |  0  |   0 | 226 | 253 | 253 | 253 | ⋯   | 253 | 253 | 253 | 241 | 146 |  0  | 0   | 0   | 0   | 0   | \n",
       "| 0   | 0   | 0   | 0   |  0  |   0 | 139 | 253 | 253 | 253 | ⋯   | 253 | 253 | 253 | 253 | 210 | 43  | 0   | 0   | 0   | 0   | \n",
       "| 0   | 0   | 0   | 0   |  0  |   0 |  39 |  34 |  34 |  34 | ⋯   | 253 | 253 | 253 | 253 | 236 | 64  | 0   | 0   | 0   | 0   | \n",
       "| 0   | 0   | 0   | 0   |  0  |   0 |  91 |   0 |   0 |   0 | ⋯   | 253 | 253 | 253 | 244 |  81 |  0  | 0   | 0   | 0   | 0   | \n",
       "| 0   | 0   | 0   | 0   |  0  |   0 |   0 |   0 |   0 |   0 | ⋯   | 253 | 253 | 241 |  89 |   0 |  0  | 0   | 0   | 0   | 0   | \n",
       "| 0   | 0   | 0   | 0   |  0  |   0 |   0 |   0 |   0 |   0 | ⋯   | 253 | 238 |  82 |   0 |   0 |  0  | 0   | 0   | 0   | 0   | \n",
       "| 0   | 0   | 0   | 0   |  0  |   0 |   0 |   0 |   0 |   0 | ⋯   | 253 |  96 |   0 |   0 |   0 |  0  | 0   | 0   | 0   | 0   | \n",
       "| 0   | 0   | 0   | 0   |  0  |   0 |   0 |   0 |   0 |   0 | ⋯   | 253 | 230 |  49 |   0 |   0 |  0  | 0   | 0   | 0   | 0   | \n",
       "| 0   | 0   | 0   | 0   |  0  |   0 |   0 |   0 |   0 |   0 | ⋯   | 253 | 253 | 138 |   0 |   0 |  0  | 0   | 0   | 0   | 0   | \n",
       "| 0   | 0   | 0   | 0   |  0  |   0 |   0 |   0 |   0 |   0 | ⋯   | 253 | 253 | 250 |  59 |   0 |  0  | 0   | 0   | 0   | 0   | \n",
       "| 0   | 0   | 0   | 0   |  0  |   0 |   0 |   0 |   0 |   0 | ⋯   | 253 | 253 | 253 |  60 |   0 |  0  | 0   | 0   | 0   | 0   | \n",
       "| 0   | 0   | 0   | 0   |  0  |   0 |   0 |   0 |   0 |   0 | ⋯   | 253 | 253 | 150 |   6 |   0 |  0  | 0   | 0   | 0   | 0   | \n",
       "| 0   | 0   | 0   | 0   |  0  |   0 |   0 |   0 |   0 |   0 | ⋯   | 253 | 253 | 138 |   0 |   0 |  0  | 0   | 0   | 0   | 0   | \n",
       "| 0   | 0   | 0   | 0   | 66  | 211 | 211 | 211 |  59 |  36 | ⋯   | 253 | 253 | 138 |   0 |   0 |  0  | 0   | 0   | 0   | 0   | \n",
       "| 0   | 0   | 0   | 0   | 80  | 253 | 253 | 253 | 253 | 253 | ⋯   | 253 | 157 |  77 |   0 |   0 |  0  | 0   | 0   | 0   | 0   | \n",
       "| 0   | 0   | 0   | 0   | 80  | 253 | 253 | 253 | 253 | 253 | ⋯   | 235 |  40 |   0 |   0 |   0 |  0  | 0   | 0   | 0   | 0   | \n",
       "| 0   | 0   | 0   | 0   | 49  | 156 | 247 | 253 | 253 | 253 | ⋯   |   0 |   0 |   0 |   0 |   0 |  0  | 0   | 0   | 0   | 0   | \n",
       "| 0   | 0   | 0   | 0   |  0  |   0 | 116 | 253 | 253 | 253 | ⋯   |   0 |   0 |   0 |   0 |   0 |  0  | 0   | 0   | 0   | 0   | \n",
       "| 0   | 0   | 0   | 0   |  0  |   0 |   0 |   0 |   0 |   0 | ⋯   |   0 |   0 |   0 |   0 |   0 |  0  | 0   | 0   | 0   | 0   | \n",
       "| 0   | 0   | 0   | 0   |  0  |   0 |   0 |   0 |   0 |   0 | ⋯   |   0 |   0 |   0 |   0 |   0 |  0  | 0   | 0   | 0   | 0   | \n",
       "| 0   | 0   | 0   | 0   |  0  |   0 |   0 |   0 |   0 |   0 | ⋯   |   0 |   0 |   0 |   0 |   0 |  0  | 0   | 0   | 0   | 0   | \n",
       "\n",
       "\n"
      ],
      "text/plain": [
       "      [,1] [,2] [,3] [,4] [,5] [,6] [,7] [,8] [,9] [,10] [,11] [,12] [,13]\n",
       " [1,] 0    0    0    0     0     0    0    0    0    0   ⋯       0     0  \n",
       " [2,] 0    0    0    0     0     0    0    0    0    0   ⋯       0     0  \n",
       " [3,] 0    0    0    0     0     0    0    0    0    0   ⋯       0     0  \n",
       " [4,] 0    0    0    0     0     0    0    0    0    0   ⋯       0     0  \n",
       " [5,] 0    0    0    0     0     0    0    0    0    0   ⋯       0     0  \n",
       " [6,] 0    0    0    0     0     0    0    0    0    0   ⋯      80    80  \n",
       " [7,] 0    0    0    0     0     0   39  158  158  158   ⋯     253   253  \n",
       " [8,] 0    0    0    0     0     0  226  253  253  253   ⋯     253   253  \n",
       " [9,] 0    0    0    0     0     0  139  253  253  253   ⋯     253   253  \n",
       "[10,] 0    0    0    0     0     0   39   34   34   34   ⋯     253   253  \n",
       "[11,] 0    0    0    0     0     0   91    0    0    0   ⋯     253   253  \n",
       "[12,] 0    0    0    0     0     0    0    0    0    0   ⋯     253   253  \n",
       "[13,] 0    0    0    0     0     0    0    0    0    0   ⋯     253   238  \n",
       "[14,] 0    0    0    0     0     0    0    0    0    0   ⋯     253    96  \n",
       "[15,] 0    0    0    0     0     0    0    0    0    0   ⋯     253   230  \n",
       "[16,] 0    0    0    0     0     0    0    0    0    0   ⋯     253   253  \n",
       "[17,] 0    0    0    0     0     0    0    0    0    0   ⋯     253   253  \n",
       "[18,] 0    0    0    0     0     0    0    0    0    0   ⋯     253   253  \n",
       "[19,] 0    0    0    0     0     0    0    0    0    0   ⋯     253   253  \n",
       "[20,] 0    0    0    0     0     0    0    0    0    0   ⋯     253   253  \n",
       "[21,] 0    0    0    0    66   211  211  211   59   36   ⋯     253   253  \n",
       "[22,] 0    0    0    0    80   253  253  253  253  253   ⋯     253   157  \n",
       "[23,] 0    0    0    0    80   253  253  253  253  253   ⋯     235    40  \n",
       "[24,] 0    0    0    0    49   156  247  253  253  253   ⋯       0     0  \n",
       "[25,] 0    0    0    0     0     0  116  253  253  253   ⋯       0     0  \n",
       "[26,] 0    0    0    0     0     0    0    0    0    0   ⋯       0     0  \n",
       "[27,] 0    0    0    0     0     0    0    0    0    0   ⋯       0     0  \n",
       "[28,] 0    0    0    0     0     0    0    0    0    0   ⋯       0     0  \n",
       "      [,14] [,15] [,16] [,17] [,18] [,19] [,20] [,21]\n",
       " [1,]   0     0     0    0    0     0     0     0    \n",
       " [2,]   0     0     0    0    0     0     0     0    \n",
       " [3,]   0     0     0    0    0     0     0     0    \n",
       " [4,]   0     0     0    0    0     0     0     0    \n",
       " [5,]   0     0     0    0    0     0     0     0    \n",
       " [6,]  44     0     0    0    0     0     0     0    \n",
       " [7,] 210    38     0    0    0     0     0     0    \n",
       " [8,] 253   241   146    0    0     0     0     0    \n",
       " [9,] 253   253   210   43    0     0     0     0    \n",
       "[10,] 253   253   236   64    0     0     0     0    \n",
       "[11,] 253   244    81    0    0     0     0     0    \n",
       "[12,] 241    89     0    0    0     0     0     0    \n",
       "[13,]  82     0     0    0    0     0     0     0    \n",
       "[14,]   0     0     0    0    0     0     0     0    \n",
       "[15,]  49     0     0    0    0     0     0     0    \n",
       "[16,] 138     0     0    0    0     0     0     0    \n",
       "[17,] 250    59     0    0    0     0     0     0    \n",
       "[18,] 253    60     0    0    0     0     0     0    \n",
       "[19,] 150     6     0    0    0     0     0     0    \n",
       "[20,] 138     0     0    0    0     0     0     0    \n",
       "[21,] 138     0     0    0    0     0     0     0    \n",
       "[22,]  77     0     0    0    0     0     0     0    \n",
       "[23,]   0     0     0    0    0     0     0     0    \n",
       "[24,]   0     0     0    0    0     0     0     0    \n",
       "[25,]   0     0     0    0    0     0     0     0    \n",
       "[26,]   0     0     0    0    0     0     0     0    \n",
       "[27,]   0     0     0    0    0     0     0     0    \n",
       "[28,]   0     0     0    0    0     0     0     0    "
      ]
     },
     "metadata": {},
     "output_type": "display_data"
    }
   ],
   "source": [
    "input_matrix"
   ]
  },
  {
   "cell_type": "markdown",
   "metadata": {},
   "source": [
    "# 3 Feedforward Deep Neural Networking Model\n",
    "There are multiple deep learning methods to solve the handwritten digits problem and we will start from the simpler and more generic deep learning model using feedforward dee neural network (DNN). DNN contains a few of fully connected layers and information is flowing from a front layer to a back layer without any feedback loop from the back layer to front layer. It is the most common deep learning models to start with. In this section, we will walk through all the needed steps to train a DNN model from scratch."
   ]
  },
  {
   "cell_type": "markdown",
   "metadata": {},
   "source": [
    "## 3.1 Data preprocessing\n",
    "In this section, we will walk through the needed steps of data preprocessing for feedforward DNN modles. For the MNIST dataset that we just loaded, some preprocessing has already done as mentioned in the above reference links. So we have a relatively \"clean\" data, but before we feed the data into feedforward DNN framework, we still need to do some additional preparations.\n",
    "\n",
    "First, for each digits, we have a scalar response and a 28x28 integer matrix with value between 0 and 255. To use the out of box DNN functions, for each response, all the features are one row of all features. For an image in MNIST dataet, the input for one response y is a 28x28 matrix, not a single row of many columns and we need to convet the 28x28 matrix into a single row by appending every row of the matrix to the first row using reshape() function.\n",
    "\n",
    "In addition to reshape, we also need to scale all features to be between (0, 1) or (-1, 1) or close to (-1, 1) range. Scale or normalize every feature will improve numerical stability in the optimization procedure as there are a lot of parameters to be optimized in DNN models."
   ]
  },
  {
   "cell_type": "markdown",
   "metadata": {},
   "source": [
    "### 3.1.1 Reshape and rescale\n",
    "We first reshape the 28x28 image for each digit (i.e each row) into 784 columns (i.e. features), and then rescale the value to be between 0 and 1 by dividing the origial grey scale value by 255, as described in the cell below."
   ]
  },
  {
   "cell_type": "code",
   "execution_count": 8,
   "metadata": {},
   "outputs": [],
   "source": [
    "# step 1: reshape\n",
    "x_train <- array_reshape(x_train, c(nrow(x_train), 784))\n",
    "x_test <- array_reshape(x_test, c(nrow(x_test), 784))\n",
    "\n",
    "# step 2: rescale\n",
    "x_train <- x_train / 255\n",
    "x_test <- x_test / 255"
   ]
  },
  {
   "cell_type": "markdown",
   "metadata": {},
   "source": [
    "And here is the structure of the reshaped and rescaled features for training and testing dataset. Now for each digit, there are 784 columns of features."
   ]
  },
  {
   "cell_type": "code",
   "execution_count": 9,
   "metadata": {},
   "outputs": [
    {
     "name": "stdout",
     "output_type": "stream",
     "text": [
      " num [1:60000, 1:784] 0 0 0 0 0 0 0 0 0 0 ...\n",
      " num [1:10000, 1:784] 0 0 0 0 0 0 0 0 0 0 ...\n"
     ]
    }
   ],
   "source": [
    "str(x_train)\n",
    "str(x_test)"
   ]
  },
  {
   "cell_type": "markdown",
   "metadata": {},
   "source": [
    "### 3.1.2 Make y categorical variable\n",
    "In this example, even though the response variable is integer (i.e. the corresponding digits for an image), but there is no order or rank for these integers and they are just an indication of one of the 10 categories. So we also convert the response variable y into categorial."
   ]
  },
  {
   "cell_type": "code",
   "execution_count": 10,
   "metadata": {},
   "outputs": [
    {
     "name": "stdout",
     "output_type": "stream",
     "text": [
      " num [1:60000, 1:10] 0 1 0 0 0 0 0 0 0 0 ...\n"
     ]
    }
   ],
   "source": [
    "y_train <- to_categorical(y_train, 10)\n",
    "y_test <- to_categorical(y_test, 10)\n",
    "str(y_train)"
   ]
  },
  {
   "cell_type": "markdown",
   "metadata": {},
   "source": [
    "## 3.2 Fit a deep learning model\n",
    "Now we are ready to fit a deep learning model with y and x. It is actually pretty straight forward to build a deep neural network model using keras. For this example, the number of input features is 784 (i.e. scaled value of each pixcel in the 28x28 image) and the number of class for the output is 10 (i.e. one of the ten categories for digits). So the input to the first layer of a neural network is 784 and the output from the last layer of a netural network is 10. And we can add any number of compatible layers in between."
   ]
  },
  {
   "cell_type": "markdown",
   "metadata": {},
   "source": [
    "### 3.2.1 Define a neural network structure\n",
    "In keras, it is easy to define a DNN model: (1) use keras_model_sequential() to initiate a model placehoder and all model structures are attached to this model object, (2) layers are added in sequency by calling the layer_dense() function, (3) we can add arbitary layers to the model based o the sequence of calling layer_dense(). For dense layes, all the nodes from the previous layer are connected with each and every nodes to the next layer. In layer_dense() function, we can define how many nodes in that layer through the 'units' parameter. The activation function can be defined through the 'activation' parameter. For the first layer, we also need to define the input features' dimension through 'input_shape' parameter. For our preprocessed MNIST dataset, there are 784 columns in the input data. One of the wildly used way to reduce overfitting is to use the dropout method, which randomly drops certain propotion of the nodes in a layer. We can define the dropout propotion through layer_dropout() function immediately after the layer_dense() function."
   ]
  },
  {
   "cell_type": "code",
   "execution_count": 11,
   "metadata": {},
   "outputs": [],
   "source": [
    "dnn_model <- keras_model_sequential() \n",
    "dnn_model %>% \n",
    "  layer_dense(units = 256, activation = 'relu', input_shape = c(784)) %>% \n",
    "  layer_dropout(rate = 0.4) %>% \n",
    "  layer_dense(units = 128, activation = 'relu') %>%\n",
    "  layer_dropout(rate = 0.3) %>%\n",
    "  layer_dense(units = 64, activation = 'relu') %>%\n",
    "  layer_dropout(rate = 0.3) %>%\n",
    "  layer_dense(units = 10, activation = 'softmax')"
   ]
  },
  {
   "cell_type": "markdown",
   "metadata": {},
   "source": [
    "The above dnn_model has 4 layers with first layer 256 nodes, 2nd layer 128 nodes, 3rd layer 64 nodes, and last layer 10 nodes. The activation function for the first 3 layers is 'relu' and the activation function for the last layer is 'softmax' which is typical for classfication problems. The model detail can be obtained through summary() function. The number of parameter of each layer can be calculated as: (number of input features +1) times (numbe of nodes in the layer). For example, the first layer has (784+1)x256=200960 parameters; the 2nd layer has (256+1)x128=32896 parameters. Please note, dropout only randomly drop certain proportion of parameters for each batch, it will not reduce the number of parameters in the model. The total number of parameters for the dnn_model we just defined has 242762 parameters to be estimated."
   ]
  },
  {
   "cell_type": "code",
   "execution_count": 12,
   "metadata": {},
   "outputs": [
    {
     "name": "stdout",
     "output_type": "stream",
     "text": [
      "________________________________________________________________________________\n",
      "Layer (type)                        Output Shape                    Param #     \n",
      "================================================================================\n",
      "dense_1 (Dense)                     (None, 256)                     200960      \n",
      "________________________________________________________________________________\n",
      "dropout_1 (Dropout)                 (None, 256)                     0           \n",
      "________________________________________________________________________________\n",
      "dense_2 (Dense)                     (None, 128)                     32896       \n",
      "________________________________________________________________________________\n",
      "dropout_2 (Dropout)                 (None, 128)                     0           \n",
      "________________________________________________________________________________\n",
      "dense_3 (Dense)                     (None, 64)                      8256        \n",
      "________________________________________________________________________________\n",
      "dropout_3 (Dropout)                 (None, 64)                      0           \n",
      "________________________________________________________________________________\n",
      "dense_4 (Dense)                     (None, 10)                      650         \n",
      "================================================================================\n",
      "Total params: 242,762\n",
      "Trainable params: 242,762\n",
      "Non-trainable params: 0\n",
      "________________________________________________________________________________\n"
     ]
    }
   ],
   "source": [
    "summary(dnn_model)"
   ]
  },
  {
   "cell_type": "markdown",
   "metadata": {},
   "source": [
    "### 3.2.2 Compile the model\n",
    "Once a model is defined, we need to compile the model with a few other hyper-parameters including: (1) what loss function to use, (2) what optimizer to use, and (3) what metrics to track during the training. For multi-class classfiction problems, the 'categorical_crossentropy' is common to use, and 'optimizer_rmsprop()' is commonly used as teh optimizer which performs batch gradient dececent."
   ]
  },
  {
   "cell_type": "code",
   "execution_count": 13,
   "metadata": {},
   "outputs": [],
   "source": [
    "dnn_model %>% compile(\n",
    "    loss = 'categorical_crossentropy',\n",
    "    optimizer = optimizer_rmsprop(),\n",
    "    metrics = c('accuracy')\n",
    ")"
   ]
  },
  {
   "cell_type": "markdown",
   "metadata": {},
   "source": [
    "### 2.2.3 Train the neural network model\n",
    "Now we can feed data (x and y) into the neural network that we just built to estimate all the parameters in the model. Here we define three hyperparameters: epochs, batch_size and validation_split, for this specfic model. It just takes a couple of minutes to finish."
   ]
  },
  {
   "cell_type": "code",
   "execution_count": 14,
   "metadata": {},
   "outputs": [],
   "source": [
    "dnn_history <- dnn_model %>% fit(\n",
    "    x_train, y_train, \n",
    "    epochs = 15, \n",
    "    batch_size = 128, \n",
    "    validation_split = 0.2\n",
    ")"
   ]
  },
  {
   "cell_type": "markdown",
   "metadata": {},
   "source": [
    "There are some useful information stored in the output object dnn_history and the details can be shown by using str() function. We can plot the training and validation accuracy and loss as function of epoch by simply calling plot(dnn_history)."
   ]
  },
  {
   "cell_type": "code",
   "execution_count": 15,
   "metadata": {},
   "outputs": [
    {
     "name": "stdout",
     "output_type": "stream",
     "text": [
      "List of 2\n",
      " $ params :List of 8\n",
      "  ..$ metrics           : chr [1:4] \"loss\" \"acc\" \"val_loss\" \"val_acc\"\n",
      "  ..$ epochs            : int 15\n",
      "  ..$ steps             : NULL\n",
      "  ..$ do_validation     : logi TRUE\n",
      "  ..$ samples           : int 48000\n",
      "  ..$ batch_size        : int 128\n",
      "  ..$ verbose           : int 1\n",
      "  ..$ validation_samples: int 12000\n",
      " $ metrics:List of 4\n",
      "  ..$ acc     : num [1:15] 0.834 0.931 0.948 0.955 0.961 ...\n",
      "  ..$ loss    : num [1:15] 0.542 0.244 0.187 0.163 0.141 ...\n",
      "  ..$ val_acc : num [1:15] 0.947 0.96 0.967 0.97 0.968 ...\n",
      "  ..$ val_loss: num [1:15] 0.183 0.14 0.119 0.108 0.123 ...\n",
      " - attr(*, \"class\")= chr \"keras_training_history\"\n"
     ]
    }
   ],
   "source": [
    "str(dnn_history)"
   ]
  },
  {
   "cell_type": "code",
   "execution_count": 16,
   "metadata": {},
   "outputs": [
    {
     "data": {},
     "metadata": {},
     "output_type": "display_data"
    },
    {
     "data": {
      "image/png": "[encoded data removed]",
      "text/plain": [
       "plot without title"
      ]
     },
     "metadata": {},
     "output_type": "display_data"
    }
   ],
   "source": [
    "plot(dnn_history)"
   ]
  },
  {
   "cell_type": "markdown",
   "metadata": {},
   "source": [
    "## 3.3 Prediction"
   ]
  },
  {
   "cell_type": "code",
   "execution_count": 17,
   "metadata": {},
   "outputs": [
    {
     "data": {
      "text/html": [
       "<dl>\n",
       "\t<dt>$loss</dt>\n",
       "\t\t<dd>0.0961939827269933</dd>\n",
       "\t<dt>$acc</dt>\n",
       "\t\t<dd>0.9778</dd>\n",
       "</dl>\n"
      ],
      "text/latex": [
       "\\begin{description}\n",
       "\\item[\\$loss] 0.0961939827269933\n",
       "\\item[\\$acc] 0.9778\n",
       "\\end{description}\n"
      ],
      "text/markdown": [
       "$loss\n",
       ":   0.0961939827269933\n",
       "$acc\n",
       ":   0.9778\n",
       "\n",
       "\n"
      ],
      "text/plain": [
       "$loss\n",
       "[1] 0.09619398\n",
       "\n",
       "$acc\n",
       "[1] 0.9778\n"
      ]
     },
     "metadata": {},
     "output_type": "display_data"
    }
   ],
   "source": [
    "dnn_model %>% evaluate(x_test, y_test)"
   ]
  },
  {
   "cell_type": "code",
   "execution_count": 18,
   "metadata": {},
   "outputs": [
    {
     "data": {
      "text/html": [
       "<ol class=list-inline>\n",
       "\t<li>7</li>\n",
       "\t<li>2</li>\n",
       "\t<li>1</li>\n",
       "\t<li>0</li>\n",
       "\t<li>4</li>\n",
       "\t<li>1</li>\n",
       "\t<li>4</li>\n",
       "\t<li>9</li>\n",
       "\t<li>5</li>\n",
       "\t<li>9</li>\n",
       "\t<li>0</li>\n",
       "\t<li>6</li>\n",
       "\t<li>9</li>\n",
       "\t<li>0</li>\n",
       "\t<li>1</li>\n",
       "\t<li>5</li>\n",
       "\t<li>9</li>\n",
       "\t<li>7</li>\n",
       "\t<li>3</li>\n",
       "\t<li>4</li>\n",
       "\t<li>9</li>\n",
       "\t<li>6</li>\n",
       "\t<li>6</li>\n",
       "\t<li>5</li>\n",
       "\t<li>4</li>\n",
       "\t<li>0</li>\n",
       "\t<li>7</li>\n",
       "\t<li>4</li>\n",
       "\t<li>0</li>\n",
       "\t<li>1</li>\n",
       "\t<li>3</li>\n",
       "\t<li>1</li>\n",
       "\t<li>3</li>\n",
       "\t<li>4</li>\n",
       "\t<li>7</li>\n",
       "\t<li>2</li>\n",
       "\t<li>7</li>\n",
       "\t<li>1</li>\n",
       "\t<li>3</li>\n",
       "\t<li>1</li>\n",
       "\t<li>1</li>\n",
       "\t<li>7</li>\n",
       "\t<li>4</li>\n",
       "\t<li>2</li>\n",
       "\t<li>3</li>\n",
       "\t<li>5</li>\n",
       "\t<li>1</li>\n",
       "\t<li>2</li>\n",
       "\t<li>4</li>\n",
       "\t<li>4</li>\n",
       "</ol>\n"
      ],
      "text/latex": [
       "\\begin{enumerate*}\n",
       "\\item 7\n",
       "\\item 2\n",
       "\\item 1\n",
       "\\item 0\n",
       "\\item 4\n",
       "\\item 1\n",
       "\\item 4\n",
       "\\item 9\n",
       "\\item 5\n",
       "\\item 9\n",
       "\\item 0\n",
       "\\item 6\n",
       "\\item 9\n",
       "\\item 0\n",
       "\\item 1\n",
       "\\item 5\n",
       "\\item 9\n",
       "\\item 7\n",
       "\\item 3\n",
       "\\item 4\n",
       "\\item 9\n",
       "\\item 6\n",
       "\\item 6\n",
       "\\item 5\n",
       "\\item 4\n",
       "\\item 0\n",
       "\\item 7\n",
       "\\item 4\n",
       "\\item 0\n",
       "\\item 1\n",
       "\\item 3\n",
       "\\item 1\n",
       "\\item 3\n",
       "\\item 4\n",
       "\\item 7\n",
       "\\item 2\n",
       "\\item 7\n",
       "\\item 1\n",
       "\\item 3\n",
       "\\item 1\n",
       "\\item 1\n",
       "\\item 7\n",
       "\\item 4\n",
       "\\item 2\n",
       "\\item 3\n",
       "\\item 5\n",
       "\\item 1\n",
       "\\item 2\n",
       "\\item 4\n",
       "\\item 4\n",
       "\\end{enumerate*}\n"
      ],
      "text/markdown": [
       "1. 7\n",
       "2. 2\n",
       "3. 1\n",
       "4. 0\n",
       "5. 4\n",
       "6. 1\n",
       "7. 4\n",
       "8. 9\n",
       "9. 5\n",
       "10. 9\n",
       "11. 0\n",
       "12. 6\n",
       "13. 9\n",
       "14. 0\n",
       "15. 1\n",
       "16. 5\n",
       "17. 9\n",
       "18. 7\n",
       "19. 3\n",
       "20. 4\n",
       "21. 9\n",
       "22. 6\n",
       "23. 6\n",
       "24. 5\n",
       "25. 4\n",
       "26. 0\n",
       "27. 7\n",
       "28. 4\n",
       "29. 0\n",
       "30. 1\n",
       "31. 3\n",
       "32. 1\n",
       "33. 3\n",
       "34. 4\n",
       "35. 7\n",
       "36. 2\n",
       "37. 7\n",
       "38. 1\n",
       "39. 3\n",
       "40. 1\n",
       "41. 1\n",
       "42. 7\n",
       "43. 4\n",
       "44. 2\n",
       "45. 3\n",
       "46. 5\n",
       "47. 1\n",
       "48. 2\n",
       "49. 4\n",
       "50. 4\n",
       "\n",
       "\n"
      ],
      "text/plain": [
       " [1] 7 2 1 0 4 1 4 9 5 9 0 6 9 0 1 5 9 7 3 4 9 6 6 5 4 0 7 4 0 1 3 1 3 4 7 2 7 1\n",
       "[39] 3 1 1 7 4 2 3 5 1 2 4 4"
      ]
     },
     "metadata": {},
     "output_type": "display_data"
    }
   ],
   "source": [
    "dnn_pred <- dnn_model %>% predict_classes(x_test)\n",
    "head(dnn_pred, n = 50)"
   ]
  },
  {
   "cell_type": "markdown",
   "metadata": {},
   "source": [
    "## 3.4 Check a few mis-clascified images"
   ]
  },
  {
   "cell_type": "markdown",
   "metadata": {},
   "source": [
    "Number of mis-classfied images can be found using the below cell. And we can plot these mis-classfied images to see whether a human can correctly read it out."
   ]
  },
  {
   "cell_type": "code",
   "execution_count": 19,
   "metadata": {},
   "outputs": [
    {
     "data": {
      "text/html": [
       "222"
      ],
      "text/latex": [
       "222"
      ],
      "text/markdown": [
       "222"
      ],
      "text/plain": [
       "[1] 222"
      ]
     },
     "metadata": {},
     "output_type": "display_data"
    }
   ],
   "source": [
    "## total number of mis-classcified images\n",
    "sum(dnn_pred != mnist$test$y)"
   ]
  },
  {
   "cell_type": "code",
   "execution_count": 20,
   "metadata": {},
   "outputs": [],
   "source": [
    "missed_image = mnist$test$x[dnn_pred != mnist$test$y,,]\n",
    "missed_digit = mnist$test$y[dnn_pred != mnist$test$y]\n",
    "missed_pred = dnn_pred[dnn_pred != mnist$test$y]\n"
   ]
  },
  {
   "cell_type": "code",
   "execution_count": 21,
   "metadata": {},
   "outputs": [
    {
     "data": {
      "image/png": "[encoded data removed]",
      "text/plain": [
       "plot without title"
      ]
     },
     "metadata": {},
     "output_type": "display_data"
    }
   ],
   "source": [
    "index_image = 34 ## change this index to see different image.\n",
    "input_matrix <- missed_image[index_image,1:28,1:28]\n",
    "output_matrix <- apply(input_matrix, 2, rev)\n",
    "output_matrix <- t(output_matrix)\n",
    "\n",
    "image(1:28, 1:28, \n",
    "      output_matrix, \n",
    "      col=gray.colors(256), \n",
    "      xlab=paste(\n",
    "          'Image for digit ', \n",
    "          missed_digit[index_image], \n",
    "          ', wrongly predicted as ', \n",
    "          missed_pred[index_image]), \n",
    "      ylab=\"\")"
   ]
  },
  {
   "cell_type": "markdown",
   "metadata": {},
   "source": [
    "Now we finsh this simple tutorial of using deep neural network for handwritten digit recognition using MNIST dataset. We illustrate how to reshape the original data into the right format and scaling; how to define a deep neural network with arbitary number of layers; how to choose activation function, optimizer and loss function; how to use dropout to limit overfitting; how to setup hyperparameters; and how to fit the model and using a fitted model to predict. Finally we illustrate how to plot the accuracy/loss as functions of epoch. It show the end-to-end cycle of how to fit a deep neural network model.\n",
    "\n",
    "On the other hand, image can be better dealt with Convolutional Neural Network (CNN) and we are going to walk through the exact same problem using CNN in next section."
   ]
  }
 ],
 "metadata": {
  "kernelspec": {
   "display_name": "R",
   "language": "R",
   "name": "ir"
  },
  "language_info": {
   "codemirror_mode": "r",
   "file_extension": ".r",
   "mimetype": "text/x-r-source",
   "name": "R",
   "pygments_lexer": "r",
   "version": "3.5.2"
  }
 },
 "nbformat": 4,
 "nbformat_minor": 2
}
